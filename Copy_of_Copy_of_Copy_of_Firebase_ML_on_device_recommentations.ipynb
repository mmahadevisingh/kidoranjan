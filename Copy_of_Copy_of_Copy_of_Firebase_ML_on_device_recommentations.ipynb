{
  "nbformat": 4,
  "nbformat_minor": 0,
  "metadata": {
    "colab": {
      "name": "Copy of Copy of Copy of Firebase ML on-device recommentations.ipynb",
      "provenance": [],
      "collapsed_sections": [],
      "include_colab_link": true
    },
    "kernelspec": {
      "display_name": "Python 3",
      "language": "python",
      "name": "python3"
    },
    "language_info": {
      "codemirror_mode": {
        "name": "ipython",
        "version": 3
      },
      "file_extension": ".py",
      "mimetype": "text/x-python",
      "name": "python",
      "nbconvert_exporter": "python",
      "pygments_lexer": "ipython3",
      "version": "3.8.5"
    },
    "gpuClass": "standard",
    "accelerator": "GPU"
  },
  "cells": [
    {
      "cell_type": "markdown",
      "metadata": {
        "id": "view-in-github",
        "colab_type": "text"
      },
      "source": [
        "<a href=\"https://colab.research.google.com/github/mmahadevisingh/kidoranjan/blob/master/Copy_of_Copy_of_Copy_of_Firebase_ML_on_device_recommentations.ipynb\" target=\"_parent\"><img src=\"https://colab.research.google.com/assets/colab-badge.svg\" alt=\"Open In Colab\"/></a>"
      ]
    },
    {
      "cell_type": "code",
      "metadata": {
        "cellView": "form",
        "id": "TUfAcER1oUS6",
        "scrolled": true
      },
      "source": [
        "#@title Licensed under the Apache License, Version 2.0 (the \"License\");\n",
        "# you may not use this file except in compliance with the License.\n",
        "# You may obtain a copy of the License at\n",
        "#\n",
        "# https://www.apache.org/licenses/LICENSE-2.0\n",
        "#\n",
        "# Unless required by applicable law or agreed to in writing, software\n",
        "# distributed under the License is distributed on an \"AS IS\" BASIS,\n",
        "# WITHOUT WARRANTIES OR CONDITIONS OF ANY KIND, either express or implied.\n",
        "# See the License for the specific language governing permissions and\n",
        "# limitations under the License."
      ],
      "execution_count": null,
      "outputs": []
    },
    {
      "cell_type": "markdown",
      "metadata": {
        "id": "Gb7qyhNL1yWt"
      },
      "source": [
        "# On-device recommendations with Firebase ML and TensorFlow Lite"
      ]
    },
    {
      "cell_type": "markdown",
      "metadata": {
        "id": "Fw5Y7snSuG51"
      },
      "source": [
        "<table class=\"tfo-notebook-buttons\" align=\"left\">\n",
        "  <td>\n",
        "    <a target=\"_blank\" href=\"https://colab.research.google.com/github/FirebaseExtended/codelab-contentrecommendation-android/blob/master/Firebase_ML_on_device_recommentations.ipynb\"><img src=\"https://www.tensorflow.org/images/colab_logo_32px.png\" />Run in Google Colab</a>\n",
        "  </td>\n",
        "  <td>\n",
        "    <a target=\"_blank\" href=\"https://github.com/FirebaseExtended/codelab-contentrecommendation-android/blob/master/Firebase_ML_on_device_recommentations.ipynb\"><img src=\"https://www.tensorflow.org/images/GitHub-Mark-32px.png\" />View source on GitHub</a>\n",
        "  </td>\n",
        "</table>"
      ]
    },
    {
      "cell_type": "markdown",
      "metadata": {
        "id": "fyYiyNxVp6mS"
      },
      "source": [
        "## Overview"
      ]
    },
    {
      "cell_type": "markdown",
      "metadata": {
        "id": "CShg7PXmqGUJ"
      },
      "source": [
        "This is the notebook for step 11 of the codelab [**Add recommendations to your app with TensorFlow Lite and Firebase**](https://codelabs.developers.google.com/codelabs/contentrecommendation-android). Before running the code in this notebook, complete steps 1-10 of the codelab to get your app and console projects set up.\n",
        "\n",
        "This code base provides a toolkit to train an on-device recommendation\n",
        "tensorflow model with user data collected in your app with Firebase Analytics. This model will then be deployed with Firebase ML to serve movie recommendations in the sample app FireFlix. \n",
        "\n",
        "This Notebook shows an end-to-end example that 1) imports Firebase Analytics data from BigQuery 2) preprocesses that data to prepare it for training 3) trains a recommendations model using the data and 4) exports the model in tflite format, ready to use in apps to run inference and serve recommendations.\n",
        "\n",
        "Since the app we use in the codelab is just a sample app, it doesn't have the usage necessary to generate a significant amount of analytics events. Since training accurate models requires a large amount of data, for the purposes of this codelab and notebook, we will be simulating a larger analytics event store by using the public [movielens](https://grouplens.org/datasets/movielens/) dataset, but you could\n",
        "adapt the data processing script for your dataset and train your own\n",
        "recommendation model."
      ]
    },
    {
      "cell_type": "markdown",
      "metadata": {
        "id": "bcLF2PKkSbV3"
      },
      "source": [
        "## Prerequisites\n",
        "\n",
        "Run the cell below to clone the tensorflow recommendations model sample from Github. This is the model we will use, with our analytics training data, to create the recommendations model.\n",
        "\n",
        "The model uses a Convolutional neural-network encoder (CNN): applying multiple layers of convolutional neural-network to generate an encoding of the user history analytics data. For more details, refer to the [documentation]() for the underlying tensorflow model."
      ]
    },
    {
      "cell_type": "code",
      "metadata": {
        "id": "6cv3K3oaksJv",
        "scrolled": true,
        "outputId": "c8803c2c-4cd0-480c-d78f-23113e684908",
        "colab": {
          "base_uri": "https://localhost:8080/"
        }
      },
      "source": [
        "!git clone https://github.com/tensorflow/examples\n",
        "%cd /content/examples/lite/examples/recommendation/ml/\n",
        "!pip install -r requirements.txt\n",
        "!pip install db-dtypes\n",
        "!pip install --upgrade google-cloud-storage google-cloud-bigquery[bqstorage]"
      ],
      "execution_count": null,
      "outputs": [
        {
          "output_type": "stream",
          "name": "stdout",
          "text": [
            "Cloning into 'examples'...\n",
            "remote: Enumerating objects: 21645, done.\u001b[K\n",
            "remote: Counting objects: 100% (306/306), done.\u001b[K\n",
            "remote: Compressing objects: 100% (217/217), done.\u001b[K\n",
            "remote: Total 21645 (delta 111), reused 202 (delta 64), pack-reused 21339\u001b[K\n",
            "Receiving objects: 100% (21645/21645), 36.12 MiB | 14.46 MiB/s, done.\n",
            "Resolving deltas: 100% (11867/11867), done.\n",
            "/content/examples/lite/examples/recommendation/ml\n",
            "Looking in indexes: https://pypi.org/simple, https://us-python.pkg.dev/colab-wheels/public/simple/\n",
            "Requirement already satisfied: pandas>=1.0.5 in /usr/local/lib/python3.7/dist-packages (from -r requirements.txt (line 1)) (1.3.5)\n",
            "Requirement already satisfied: tensorflow>=2.2.0 in /usr/local/lib/python3.7/dist-packages (from -r requirements.txt (line 2)) (2.8.2+zzzcolab20220527125636)\n",
            "Requirement already satisfied: absl-py>=0.1.6 in /usr/local/lib/python3.7/dist-packages (from -r requirements.txt (line 3)) (1.1.0)\n",
            "Requirement already satisfied: numpy>=1.17.3 in /usr/local/lib/python3.7/dist-packages (from pandas>=1.0.5->-r requirements.txt (line 1)) (1.21.6)\n",
            "Requirement already satisfied: pytz>=2017.3 in /usr/local/lib/python3.7/dist-packages (from pandas>=1.0.5->-r requirements.txt (line 1)) (2022.1)\n",
            "Requirement already satisfied: python-dateutil>=2.7.3 in /usr/local/lib/python3.7/dist-packages (from pandas>=1.0.5->-r requirements.txt (line 1)) (2.8.2)\n",
            "Requirement already satisfied: wrapt>=1.11.0 in /usr/local/lib/python3.7/dist-packages (from tensorflow>=2.2.0->-r requirements.txt (line 2)) (1.14.1)\n",
            "Requirement already satisfied: tensorflow-io-gcs-filesystem>=0.23.1 in /usr/local/lib/python3.7/dist-packages (from tensorflow>=2.2.0->-r requirements.txt (line 2)) (0.26.0)\n",
            "Requirement already satisfied: termcolor>=1.1.0 in /usr/local/lib/python3.7/dist-packages (from tensorflow>=2.2.0->-r requirements.txt (line 2)) (1.1.0)\n",
            "Requirement already satisfied: tensorboard<2.9,>=2.8 in /usr/local/lib/python3.7/dist-packages (from tensorflow>=2.2.0->-r requirements.txt (line 2)) (2.8.0)\n",
            "Requirement already satisfied: keras-preprocessing>=1.1.1 in /usr/local/lib/python3.7/dist-packages (from tensorflow>=2.2.0->-r requirements.txt (line 2)) (1.1.2)\n",
            "Requirement already satisfied: astunparse>=1.6.0 in /usr/local/lib/python3.7/dist-packages (from tensorflow>=2.2.0->-r requirements.txt (line 2)) (1.6.3)\n",
            "Requirement already satisfied: grpcio<2.0,>=1.24.3 in /usr/local/lib/python3.7/dist-packages (from tensorflow>=2.2.0->-r requirements.txt (line 2)) (1.46.3)\n",
            "Requirement already satisfied: libclang>=9.0.1 in /usr/local/lib/python3.7/dist-packages (from tensorflow>=2.2.0->-r requirements.txt (line 2)) (14.0.1)\n",
            "Requirement already satisfied: setuptools in /usr/local/lib/python3.7/dist-packages (from tensorflow>=2.2.0->-r requirements.txt (line 2)) (57.4.0)\n",
            "Requirement already satisfied: typing-extensions>=3.6.6 in /usr/local/lib/python3.7/dist-packages (from tensorflow>=2.2.0->-r requirements.txt (line 2)) (4.1.1)\n",
            "Requirement already satisfied: six>=1.12.0 in /usr/local/lib/python3.7/dist-packages (from tensorflow>=2.2.0->-r requirements.txt (line 2)) (1.15.0)\n",
            "Requirement already satisfied: h5py>=2.9.0 in /usr/local/lib/python3.7/dist-packages (from tensorflow>=2.2.0->-r requirements.txt (line 2)) (3.1.0)\n",
            "Requirement already satisfied: google-pasta>=0.1.1 in /usr/local/lib/python3.7/dist-packages (from tensorflow>=2.2.0->-r requirements.txt (line 2)) (0.2.0)\n",
            "Requirement already satisfied: protobuf<3.20,>=3.9.2 in /usr/local/lib/python3.7/dist-packages (from tensorflow>=2.2.0->-r requirements.txt (line 2)) (3.19.4)\n",
            "Requirement already satisfied: tensorflow-estimator<2.9,>=2.8 in /usr/local/lib/python3.7/dist-packages (from tensorflow>=2.2.0->-r requirements.txt (line 2)) (2.8.0)\n",
            "Requirement already satisfied: keras<2.9,>=2.8.0rc0 in /usr/local/lib/python3.7/dist-packages (from tensorflow>=2.2.0->-r requirements.txt (line 2)) (2.8.0)\n",
            "Requirement already satisfied: flatbuffers>=1.12 in /usr/local/lib/python3.7/dist-packages (from tensorflow>=2.2.0->-r requirements.txt (line 2)) (2.0)\n",
            "Requirement already satisfied: gast>=0.2.1 in /usr/local/lib/python3.7/dist-packages (from tensorflow>=2.2.0->-r requirements.txt (line 2)) (0.5.3)\n",
            "Requirement already satisfied: opt-einsum>=2.3.2 in /usr/local/lib/python3.7/dist-packages (from tensorflow>=2.2.0->-r requirements.txt (line 2)) (3.3.0)\n",
            "Requirement already satisfied: wheel<1.0,>=0.23.0 in /usr/local/lib/python3.7/dist-packages (from astunparse>=1.6.0->tensorflow>=2.2.0->-r requirements.txt (line 2)) (0.37.1)\n",
            "Requirement already satisfied: cached-property in /usr/local/lib/python3.7/dist-packages (from h5py>=2.9.0->tensorflow>=2.2.0->-r requirements.txt (line 2)) (1.5.2)\n",
            "Requirement already satisfied: google-auth<3,>=1.6.3 in /usr/local/lib/python3.7/dist-packages (from tensorboard<2.9,>=2.8->tensorflow>=2.2.0->-r requirements.txt (line 2)) (1.35.0)\n",
            "Requirement already satisfied: google-auth-oauthlib<0.5,>=0.4.1 in /usr/local/lib/python3.7/dist-packages (from tensorboard<2.9,>=2.8->tensorflow>=2.2.0->-r requirements.txt (line 2)) (0.4.6)\n",
            "Requirement already satisfied: requests<3,>=2.21.0 in /usr/local/lib/python3.7/dist-packages (from tensorboard<2.9,>=2.8->tensorflow>=2.2.0->-r requirements.txt (line 2)) (2.23.0)\n",
            "Requirement already satisfied: werkzeug>=0.11.15 in /usr/local/lib/python3.7/dist-packages (from tensorboard<2.9,>=2.8->tensorflow>=2.2.0->-r requirements.txt (line 2)) (1.0.1)\n",
            "Requirement already satisfied: tensorboard-data-server<0.7.0,>=0.6.0 in /usr/local/lib/python3.7/dist-packages (from tensorboard<2.9,>=2.8->tensorflow>=2.2.0->-r requirements.txt (line 2)) (0.6.1)\n",
            "Requirement already satisfied: tensorboard-plugin-wit>=1.6.0 in /usr/local/lib/python3.7/dist-packages (from tensorboard<2.9,>=2.8->tensorflow>=2.2.0->-r requirements.txt (line 2)) (1.8.1)\n",
            "Requirement already satisfied: markdown>=2.6.8 in /usr/local/lib/python3.7/dist-packages (from tensorboard<2.9,>=2.8->tensorflow>=2.2.0->-r requirements.txt (line 2)) (3.3.7)\n",
            "Requirement already satisfied: pyasn1-modules>=0.2.1 in /usr/local/lib/python3.7/dist-packages (from google-auth<3,>=1.6.3->tensorboard<2.9,>=2.8->tensorflow>=2.2.0->-r requirements.txt (line 2)) (0.2.8)\n",
            "Requirement already satisfied: rsa<5,>=3.1.4 in /usr/local/lib/python3.7/dist-packages (from google-auth<3,>=1.6.3->tensorboard<2.9,>=2.8->tensorflow>=2.2.0->-r requirements.txt (line 2)) (4.8)\n",
            "Requirement already satisfied: cachetools<5.0,>=2.0.0 in /usr/local/lib/python3.7/dist-packages (from google-auth<3,>=1.6.3->tensorboard<2.9,>=2.8->tensorflow>=2.2.0->-r requirements.txt (line 2)) (4.2.4)\n",
            "Requirement already satisfied: requests-oauthlib>=0.7.0 in /usr/local/lib/python3.7/dist-packages (from google-auth-oauthlib<0.5,>=0.4.1->tensorboard<2.9,>=2.8->tensorflow>=2.2.0->-r requirements.txt (line 2)) (1.3.1)\n",
            "Requirement already satisfied: importlib-metadata>=4.4 in /usr/local/lib/python3.7/dist-packages (from markdown>=2.6.8->tensorboard<2.9,>=2.8->tensorflow>=2.2.0->-r requirements.txt (line 2)) (4.11.4)\n",
            "Requirement already satisfied: zipp>=0.5 in /usr/local/lib/python3.7/dist-packages (from importlib-metadata>=4.4->markdown>=2.6.8->tensorboard<2.9,>=2.8->tensorflow>=2.2.0->-r requirements.txt (line 2)) (3.8.0)\n",
            "Requirement already satisfied: pyasn1<0.5.0,>=0.4.6 in /usr/local/lib/python3.7/dist-packages (from pyasn1-modules>=0.2.1->google-auth<3,>=1.6.3->tensorboard<2.9,>=2.8->tensorflow>=2.2.0->-r requirements.txt (line 2)) (0.4.8)\n",
            "Requirement already satisfied: urllib3!=1.25.0,!=1.25.1,<1.26,>=1.21.1 in /usr/local/lib/python3.7/dist-packages (from requests<3,>=2.21.0->tensorboard<2.9,>=2.8->tensorflow>=2.2.0->-r requirements.txt (line 2)) (1.24.3)\n",
            "Requirement already satisfied: certifi>=2017.4.17 in /usr/local/lib/python3.7/dist-packages (from requests<3,>=2.21.0->tensorboard<2.9,>=2.8->tensorflow>=2.2.0->-r requirements.txt (line 2)) (2022.6.15)\n",
            "Requirement already satisfied: idna<3,>=2.5 in /usr/local/lib/python3.7/dist-packages (from requests<3,>=2.21.0->tensorboard<2.9,>=2.8->tensorflow>=2.2.0->-r requirements.txt (line 2)) (2.10)\n",
            "Requirement already satisfied: chardet<4,>=3.0.2 in /usr/local/lib/python3.7/dist-packages (from requests<3,>=2.21.0->tensorboard<2.9,>=2.8->tensorflow>=2.2.0->-r requirements.txt (line 2)) (3.0.4)\n",
            "Requirement already satisfied: oauthlib>=3.0.0 in /usr/local/lib/python3.7/dist-packages (from requests-oauthlib>=0.7.0->google-auth-oauthlib<0.5,>=0.4.1->tensorboard<2.9,>=2.8->tensorflow>=2.2.0->-r requirements.txt (line 2)) (3.2.0)\n",
            "Looking in indexes: https://pypi.org/simple, https://us-python.pkg.dev/colab-wheels/public/simple/\n",
            "Requirement already satisfied: db-dtypes in /usr/local/lib/python3.7/dist-packages (1.0.2)\n",
            "Requirement already satisfied: packaging>=17.0 in /usr/local/lib/python3.7/dist-packages (from db-dtypes) (21.3)\n",
            "Requirement already satisfied: pyarrow<9.0dev,>=3.0.0 in /usr/local/lib/python3.7/dist-packages (from db-dtypes) (6.0.1)\n",
            "Requirement already satisfied: numpy<2.0dev,>=1.16.6 in /usr/local/lib/python3.7/dist-packages (from db-dtypes) (1.21.6)\n",
            "Requirement already satisfied: pandas<2.0dev,>=0.24.2 in /usr/local/lib/python3.7/dist-packages (from db-dtypes) (1.3.5)\n",
            "Requirement already satisfied: pyparsing!=3.0.5,>=2.0.2 in /usr/local/lib/python3.7/dist-packages (from packaging>=17.0->db-dtypes) (3.0.9)\n",
            "Requirement already satisfied: python-dateutil>=2.7.3 in /usr/local/lib/python3.7/dist-packages (from pandas<2.0dev,>=0.24.2->db-dtypes) (2.8.2)\n",
            "Requirement already satisfied: pytz>=2017.3 in /usr/local/lib/python3.7/dist-packages (from pandas<2.0dev,>=0.24.2->db-dtypes) (2022.1)\n",
            "Requirement already satisfied: six>=1.5 in /usr/local/lib/python3.7/dist-packages (from python-dateutil>=2.7.3->pandas<2.0dev,>=0.24.2->db-dtypes) (1.15.0)\n",
            "Looking in indexes: https://pypi.org/simple, https://us-python.pkg.dev/colab-wheels/public/simple/\n",
            "Requirement already satisfied: google-cloud-storage in /usr/local/lib/python3.7/dist-packages (2.4.0)\n",
            "Requirement already satisfied: google-cloud-bigquery[bqstorage] in /usr/local/lib/python3.7/dist-packages (3.2.0)\n",
            "Requirement already satisfied: google-api-core!=2.0.*,!=2.1.*,!=2.2.*,!=2.3.0,<3.0.0dev,>=1.31.5 in /usr/local/lib/python3.7/dist-packages (from google-cloud-storage) (1.31.6)\n",
            "Requirement already satisfied: google-auth<3.0dev,>=1.25.0 in /usr/local/lib/python3.7/dist-packages (from google-cloud-storage) (1.35.0)\n",
            "Requirement already satisfied: google-cloud-core<3.0dev,>=2.3.0 in /usr/local/lib/python3.7/dist-packages (from google-cloud-storage) (2.3.1)\n",
            "Requirement already satisfied: requests<3.0.0dev,>=2.18.0 in /usr/local/lib/python3.7/dist-packages (from google-cloud-storage) (2.23.0)\n",
            "Requirement already satisfied: google-resumable-media>=2.3.2 in /usr/local/lib/python3.7/dist-packages (from google-cloud-storage) (2.3.3)\n",
            "Requirement already satisfied: packaging>=14.3 in /usr/local/lib/python3.7/dist-packages (from google-api-core!=2.0.*,!=2.1.*,!=2.2.*,!=2.3.0,<3.0.0dev,>=1.31.5->google-cloud-storage) (21.3)\n",
            "Requirement already satisfied: pytz in /usr/local/lib/python3.7/dist-packages (from google-api-core!=2.0.*,!=2.1.*,!=2.2.*,!=2.3.0,<3.0.0dev,>=1.31.5->google-cloud-storage) (2022.1)\n",
            "Requirement already satisfied: protobuf<4.0.0dev,>=3.12.0 in /usr/local/lib/python3.7/dist-packages (from google-api-core!=2.0.*,!=2.1.*,!=2.2.*,!=2.3.0,<3.0.0dev,>=1.31.5->google-cloud-storage) (3.19.4)\n",
            "Requirement already satisfied: six>=1.13.0 in /usr/local/lib/python3.7/dist-packages (from google-api-core!=2.0.*,!=2.1.*,!=2.2.*,!=2.3.0,<3.0.0dev,>=1.31.5->google-cloud-storage) (1.15.0)\n",
            "Requirement already satisfied: googleapis-common-protos<2.0dev,>=1.6.0 in /usr/local/lib/python3.7/dist-packages (from google-api-core!=2.0.*,!=2.1.*,!=2.2.*,!=2.3.0,<3.0.0dev,>=1.31.5->google-cloud-storage) (1.56.2)\n",
            "Requirement already satisfied: setuptools>=40.3.0 in /usr/local/lib/python3.7/dist-packages (from google-api-core!=2.0.*,!=2.1.*,!=2.2.*,!=2.3.0,<3.0.0dev,>=1.31.5->google-cloud-storage) (57.4.0)\n",
            "Requirement already satisfied: pyasn1-modules>=0.2.1 in /usr/local/lib/python3.7/dist-packages (from google-auth<3.0dev,>=1.25.0->google-cloud-storage) (0.2.8)\n",
            "Requirement already satisfied: cachetools<5.0,>=2.0.0 in /usr/local/lib/python3.7/dist-packages (from google-auth<3.0dev,>=1.25.0->google-cloud-storage) (4.2.4)\n",
            "Requirement already satisfied: rsa<5,>=3.1.4 in /usr/local/lib/python3.7/dist-packages (from google-auth<3.0dev,>=1.25.0->google-cloud-storage) (4.8)\n",
            "Requirement already satisfied: google-crc32c<2.0dev,>=1.0 in /usr/local/lib/python3.7/dist-packages (from google-resumable-media>=2.3.2->google-cloud-storage) (1.3.0)\n",
            "Requirement already satisfied: pyparsing!=3.0.5,>=2.0.2 in /usr/local/lib/python3.7/dist-packages (from packaging>=14.3->google-api-core!=2.0.*,!=2.1.*,!=2.2.*,!=2.3.0,<3.0.0dev,>=1.31.5->google-cloud-storage) (3.0.9)\n",
            "Requirement already satisfied: pyasn1<0.5.0,>=0.4.6 in /usr/local/lib/python3.7/dist-packages (from pyasn1-modules>=0.2.1->google-auth<3.0dev,>=1.25.0->google-cloud-storage) (0.4.8)\n",
            "Requirement already satisfied: idna<3,>=2.5 in /usr/local/lib/python3.7/dist-packages (from requests<3.0.0dev,>=2.18.0->google-cloud-storage) (2.10)\n",
            "Requirement already satisfied: certifi>=2017.4.17 in /usr/local/lib/python3.7/dist-packages (from requests<3.0.0dev,>=2.18.0->google-cloud-storage) (2022.6.15)\n",
            "Requirement already satisfied: urllib3!=1.25.0,!=1.25.1,<1.26,>=1.21.1 in /usr/local/lib/python3.7/dist-packages (from requests<3.0.0dev,>=2.18.0->google-cloud-storage) (1.24.3)\n",
            "Requirement already satisfied: chardet<4,>=3.0.2 in /usr/local/lib/python3.7/dist-packages (from requests<3.0.0dev,>=2.18.0->google-cloud-storage) (3.0.4)\n",
            "Requirement already satisfied: grpcio<2.0dev,>=1.38.1 in /usr/local/lib/python3.7/dist-packages (from google-cloud-bigquery[bqstorage]) (1.46.3)\n",
            "Requirement already satisfied: pyarrow<9.0dev,>=3.0.0 in /usr/local/lib/python3.7/dist-packages (from google-cloud-bigquery[bqstorage]) (6.0.1)\n",
            "Requirement already satisfied: proto-plus<2.0.0dev,>=1.15.0 in /usr/local/lib/python3.7/dist-packages (from google-cloud-bigquery[bqstorage]) (1.20.6)\n",
            "Requirement already satisfied: python-dateutil<3.0dev,>=2.7.2 in /usr/local/lib/python3.7/dist-packages (from google-cloud-bigquery[bqstorage]) (2.8.2)\n",
            "Requirement already satisfied: google-cloud-bigquery-storage<3.0.0dev,>=2.0.0 in /usr/local/lib/python3.7/dist-packages (from google-cloud-bigquery[bqstorage]) (2.13.2)\n",
            "Requirement already satisfied: numpy>=1.16.6 in /usr/local/lib/python3.7/dist-packages (from pyarrow<9.0dev,>=3.0.0->google-cloud-bigquery[bqstorage]) (1.21.6)\n"
          ]
        }
      ]
    },
    {
      "cell_type": "markdown",
      "metadata": {
        "id": "joSTkeEWN01m"
      },
      "source": [
        "## Set up authentication\n",
        "\n",
        "In this notebook, we use analytics data from BigQuery to generate training data for our recommendations model. To access BigQuery data from the Colab notebook, you need to upload the service account file that you downloaded in step 10 of the codelab.\n",
        "\n",
        "Note: If this step is throwing an error, you can either:\n",
        "1. Manually upload the json file to the /content folder using the Folder icon in the left menu. Then set the GOOGLE_APPLICATION_CREDENTIALS environment variable to the file path.\n",
        "i.e. If file was uploaded to /content, run:\n",
        "`os.environ[\"GOOGLE_APPLICATION_CREDENTIALS\"]='/content/<your_service_acct_file_name>`\n",
        "OR,\n",
        "2. Try disabling third party cookies in your browser, as [suggested here](https://stackoverflow.com/a/61494336)."
      ]
    },
    {
      "cell_type": "code",
      "metadata": {
        "id": "mqN2Qro5sN5f",
        "outputId": "cf5b4da6-489f-411a-c76c-d67d9cd81590",
        "colab": {
          "resources": {
            "http://localhost:8080/nbextensions/google.colab/files.js": {
              "data": "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",
              "ok": true,
              "headers": [
                [
                  "content-type",
                  "application/javascript"
                ]
              ],
              "status": 200,
              "status_text": ""
            }
          },
          "base_uri": "https://localhost:8080/",
          "height": 108
        }
      },
      "source": [
        "import os\n",
        "from google.colab import files\n",
        "\n",
        "uploaded = files.upload()\n",
        "\n",
        "for fn in uploaded.keys():\n",
        "  print('User uploaded file \"{name}\" with length {length} bytes'.format(\n",
        "      name=fn, length=len(uploaded[fn])))\n",
        "  with open('/content/' + fn, 'wb') as f:\n",
        "    f.write(uploaded[fn])\n",
        "  os.environ[\"GOOGLE_APPLICATION_CREDENTIALS\"]='/content/' + fn\n",
        "  projectID = fn.rsplit(\"-\", 1)[0]"
      ],
      "execution_count": null,
      "outputs": [
        {
          "output_type": "display_data",
          "data": {
            "text/plain": [
              "<IPython.core.display.HTML object>"
            ],
            "text/html": [
              "\n",
              "     <input type=\"file\" id=\"files-97a9adfc-eeb7-4470-948a-b9bc9649ef58\" name=\"files[]\" multiple disabled\n",
              "        style=\"border:none\" />\n",
              "     <output id=\"result-97a9adfc-eeb7-4470-948a-b9bc9649ef58\">\n",
              "      Upload widget is only available when the cell has been executed in the\n",
              "      current browser session. Please rerun this cell to enable.\n",
              "      </output>\n",
              "      <script src=\"/nbextensions/google.colab/files.js\"></script> "
            ]
          },
          "metadata": {}
        },
        {
          "output_type": "stream",
          "name": "stdout",
          "text": [
            "Saving kidoranjan-f3178-b67e21472114.json to kidoranjan-f3178-b67e21472114 (1).json\n",
            "User uploaded file \"kidoranjan-f3178-b67e21472114.json\" with length 2321 bytes\n"
          ]
        }
      ]
    },
    {
      "cell_type": "markdown",
      "metadata": {
        "id": "c4dy0D_RQK2D"
      },
      "source": [
        "# Import app analytics data from BigQuery\n",
        "\n",
        "In this step, we will load the analytics data we collected in the app with Firebase Analytics and sent to BigQuery. We will load the data into the pandas data processing library and then preprocess this data to be the appropriate format for input for the model training step."
      ]
    },
    {
      "cell_type": "markdown",
      "metadata": {
        "id": "JUc7uJXMRLNb"
      },
      "source": [
        "## Enable BigQuery IPython magics\n",
        "\n",
        "BigQuery provides several convenience IPython magics that we will use to fetch data with the %load_ext magic below."
      ]
    },
    {
      "cell_type": "code",
      "metadata": {
        "id": "5J2plSCksN5h"
      },
      "source": [
        "%reload_ext google.cloud.bigquery"
      ],
      "execution_count": null,
      "outputs": []
    },
    {
      "cell_type": "markdown",
      "metadata": {
        "id": "Pq46MEB5RlUR"
      },
      "source": [
        "## Import data\n",
        "\n",
        "We use the following SQL statement to get items from the table we created in BigQuery. Firebase Analytics exports a lot of additional information, such as device type, platform version, etc, that we don't need for the purposes of training this model. Initially, we only get a limited amount of rows to briefly explore the form of this data and select which fields are important.\n",
        "\n",
        "Notice that a row in the dataframe is created for each analytics event logged in the app. This row has many properties, but the ones that are of importance for this notebook are the fields:\n",
        "* event_name\n",
        "* event_timestamp\n",
        "* items\n",
        "* user_pseudo_id\n",
        "\n",
        "Notice that some fields, such as the **items** field is actually an object. We will extract the subfield of interest below."
      ]
    },
    {
      "cell_type": "code",
      "metadata": {
        "id": "qoAKLXkZsN5j",
        "colab": {
          "base_uri": "https://localhost:8080/"
        },
        "outputId": "27ff4da6-719c-4d30-e9aa-f6fc90b2a3a2"
      },
      "source": [
        "%%bigquery analytics_test_import\n",
        "SELECT\n",
        "    *\n",
        "FROM `analytics_317045996.events_intraday_20220626`\n",
        "LIMIT 10"
      ],
      "execution_count": null,
      "outputs": [
        {
          "output_type": "stream",
          "name": "stderr",
          "text": [
            "Query complete after 0.01s: 100%|██████████| 2/2 [00:00<00:00, 328.58query/s]\n",
            "Downloading: 100%|██████████| 10/10 [00:01<00:00,  6.26rows/s]\n"
          ]
        }
      ]
    },
    {
      "cell_type": "code",
      "metadata": {
        "id": "RLXfzEckVMZ1",
        "outputId": "5191f6bf-e132-4c1d-a0d7-565a3ebf63e3",
        "colab": {
          "base_uri": "https://localhost:8080/",
          "height": 1000
        }
      },
      "source": [
        "analytics_test_import"
      ],
      "execution_count": null,
      "outputs": [
        {
          "output_type": "execute_result",
          "data": {
            "text/plain": [
              "  event_date   event_timestamp       event_name  \\\n",
              "0   20220626  1656216240992701    session_start   \n",
              "1   20220626  1656216241810702      screen_view   \n",
              "2   20220626  1656216548140206  user_engagement   \n",
              "3   20220626  1656217664311211      screen_view   \n",
              "4   20220626  1656219233111215      screen_view   \n",
              "5   20220626  1656226944423452  user_engagement   \n",
              "6   20220626  1656226084752451    session_start   \n",
              "7   20220626  1656226085162452      screen_view   \n",
              "8   20220626  1656229114971614    session_start   \n",
              "9   20220626  1656229125105615  user_engagement   \n",
              "\n",
              "                                        event_params  \\\n",
              "0  [{'key': 'ga_session_number', 'value': {'strin...   \n",
              "1  [{'key': 'firebase_screen_class', 'value': {'s...   \n",
              "2  [{'key': 'ga_session_id', 'value': {'string_va...   \n",
              "3  [{'key': 'ga_session_id', 'value': {'string_va...   \n",
              "4  [{'key': 'firebase_screen_id', 'value': {'stri...   \n",
              "5  [{'key': 'firebase_screen_class', 'value': {'s...   \n",
              "6  [{'key': 'engaged_session_event', 'value': {'s...   \n",
              "7  [{'key': 'firebase_screen_id', 'value': {'stri...   \n",
              "8  [{'key': 'firebase_event_origin', 'value': {'s...   \n",
              "9  [{'key': 'firebase_screen_class', 'value': {'s...   \n",
              "\n",
              "   event_previous_timestamp  event_value_in_usd  event_bundle_sequence_id  \\\n",
              "0          1656182628535000                 NaN                        84   \n",
              "1          1656182629099001                 NaN                        84   \n",
              "2          1654710784446000                 NaN                        85   \n",
              "3          1656216236488005                 NaN                        85   \n",
              "4          1656217660419009                 NaN                        85   \n",
              "5          1656216544248001                 NaN                        89   \n",
              "6          1656216235670000                 NaN                        88   \n",
              "7          1656219229219001                 NaN                        88   \n",
              "8          1656226063556000                 NaN                        90   \n",
              "9          1656226923227001                 NaN                        90   \n",
              "\n",
              "   event_server_timestamp_offset user_id                    user_pseudo_id  \\\n",
              "0                        5322701    None  97d43bb2c3af16aef2ca1c459a335b12   \n",
              "1                        5322701    None  97d43bb2c3af16aef2ca1c459a335b12   \n",
              "2                        3892206    None  97d43bb2c3af16aef2ca1c459a335b12   \n",
              "3                        3892206    None  97d43bb2c3af16aef2ca1c459a335b12   \n",
              "4                        3892206    None  97d43bb2c3af16aef2ca1c459a335b12   \n",
              "5                       21196453    None  97d43bb2c3af16aef2ca1c459a335b12   \n",
              "6                       21196452    None  97d43bb2c3af16aef2ca1c459a335b12   \n",
              "7                       21196452    None  97d43bb2c3af16aef2ca1c459a335b12   \n",
              "8                        3016614    None  97d43bb2c3af16aef2ca1c459a335b12   \n",
              "9                        3016614    None  97d43bb2c3af16aef2ca1c459a335b12   \n",
              "\n",
              "   ... user_ltv                                             device  \\\n",
              "0  ...     None  {'category': 'mobile', 'mobile_brand_name': No...   \n",
              "1  ...     None  {'category': 'mobile', 'mobile_brand_name': No...   \n",
              "2  ...     None  {'category': 'mobile', 'mobile_brand_name': No...   \n",
              "3  ...     None  {'category': 'mobile', 'mobile_brand_name': No...   \n",
              "4  ...     None  {'category': 'mobile', 'mobile_brand_name': No...   \n",
              "5  ...     None  {'category': 'mobile', 'mobile_brand_name': No...   \n",
              "6  ...     None  {'category': 'mobile', 'mobile_brand_name': No...   \n",
              "7  ...     None  {'category': 'mobile', 'mobile_brand_name': No...   \n",
              "8  ...     None  {'category': 'mobile', 'mobile_brand_name': No...   \n",
              "9  ...     None  {'category': 'mobile', 'mobile_brand_name': No...   \n",
              "\n",
              "                                                 geo  \\\n",
              "0  {'continent': 'Asia', 'country': 'India', 'reg...   \n",
              "1  {'continent': 'Asia', 'country': 'India', 'reg...   \n",
              "2  {'continent': 'Asia', 'country': 'India', 'reg...   \n",
              "3  {'continent': 'Asia', 'country': 'India', 'reg...   \n",
              "4  {'continent': 'Asia', 'country': 'India', 'reg...   \n",
              "5  {'continent': 'Asia', 'country': 'India', 'reg...   \n",
              "6  {'continent': 'Asia', 'country': 'India', 'reg...   \n",
              "7  {'continent': 'Asia', 'country': 'India', 'reg...   \n",
              "8  {'continent': 'Asia', 'country': 'India', 'reg...   \n",
              "9  {'continent': 'Asia', 'country': 'India', 'reg...   \n",
              "\n",
              "                                            app_info  \\\n",
              "0  {'id': 'com.google.firebase.codelabs.recommend...   \n",
              "1  {'id': 'com.google.firebase.codelabs.recommend...   \n",
              "2  {'id': 'com.google.firebase.codelabs.recommend...   \n",
              "3  {'id': 'com.google.firebase.codelabs.recommend...   \n",
              "4  {'id': 'com.google.firebase.codelabs.recommend...   \n",
              "5  {'id': 'com.google.firebase.codelabs.recommend...   \n",
              "6  {'id': 'com.google.firebase.codelabs.recommend...   \n",
              "7  {'id': 'com.google.firebase.codelabs.recommend...   \n",
              "8  {'id': 'com.google.firebase.codelabs.recommend...   \n",
              "9  {'id': 'com.google.firebase.codelabs.recommend...   \n",
              "\n",
              "                                      traffic_source   stream_id platform  \\\n",
              "0  {'name': '(direct)', 'medium': '(none)', 'sour...  3595545520  ANDROID   \n",
              "1  {'name': '(direct)', 'medium': '(none)', 'sour...  3595545520  ANDROID   \n",
              "2  {'name': '(direct)', 'medium': '(none)', 'sour...  3595545520  ANDROID   \n",
              "3  {'name': '(direct)', 'medium': '(none)', 'sour...  3595545520  ANDROID   \n",
              "4  {'name': '(direct)', 'medium': '(none)', 'sour...  3595545520  ANDROID   \n",
              "5  {'name': '(direct)', 'medium': '(none)', 'sour...  3595545520  ANDROID   \n",
              "6  {'name': '(direct)', 'medium': '(none)', 'sour...  3595545520  ANDROID   \n",
              "7  {'name': '(direct)', 'medium': '(none)', 'sour...  3595545520  ANDROID   \n",
              "8  {'name': '(direct)', 'medium': '(none)', 'sour...  3595545520  ANDROID   \n",
              "9  {'name': '(direct)', 'medium': '(none)', 'sour...  3595545520  ANDROID   \n",
              "\n",
              "  event_dimensions ecommerce items  \n",
              "0             None      None    []  \n",
              "1             None      None    []  \n",
              "2             None      None    []  \n",
              "3             None      None    []  \n",
              "4             None      None    []  \n",
              "5             None      None    []  \n",
              "6             None      None    []  \n",
              "7             None      None    []  \n",
              "8             None      None    []  \n",
              "9             None      None    []  \n",
              "\n",
              "[10 rows x 23 columns]"
            ],
            "text/html": [
              "\n",
              "  <div id=\"df-c8c0fc23-d9b6-4f7e-9cb4-83dfa4ea652f\">\n",
              "    <div class=\"colab-df-container\">\n",
              "      <div>\n",
              "<style scoped>\n",
              "    .dataframe tbody tr th:only-of-type {\n",
              "        vertical-align: middle;\n",
              "    }\n",
              "\n",
              "    .dataframe tbody tr th {\n",
              "        vertical-align: top;\n",
              "    }\n",
              "\n",
              "    .dataframe thead th {\n",
              "        text-align: right;\n",
              "    }\n",
              "</style>\n",
              "<table border=\"1\" class=\"dataframe\">\n",
              "  <thead>\n",
              "    <tr style=\"text-align: right;\">\n",
              "      <th></th>\n",
              "      <th>event_date</th>\n",
              "      <th>event_timestamp</th>\n",
              "      <th>event_name</th>\n",
              "      <th>event_params</th>\n",
              "      <th>event_previous_timestamp</th>\n",
              "      <th>event_value_in_usd</th>\n",
              "      <th>event_bundle_sequence_id</th>\n",
              "      <th>event_server_timestamp_offset</th>\n",
              "      <th>user_id</th>\n",
              "      <th>user_pseudo_id</th>\n",
              "      <th>...</th>\n",
              "      <th>user_ltv</th>\n",
              "      <th>device</th>\n",
              "      <th>geo</th>\n",
              "      <th>app_info</th>\n",
              "      <th>traffic_source</th>\n",
              "      <th>stream_id</th>\n",
              "      <th>platform</th>\n",
              "      <th>event_dimensions</th>\n",
              "      <th>ecommerce</th>\n",
              "      <th>items</th>\n",
              "    </tr>\n",
              "  </thead>\n",
              "  <tbody>\n",
              "    <tr>\n",
              "      <th>0</th>\n",
              "      <td>20220626</td>\n",
              "      <td>1656216240992701</td>\n",
              "      <td>session_start</td>\n",
              "      <td>[{'key': 'ga_session_number', 'value': {'strin...</td>\n",
              "      <td>1656182628535000</td>\n",
              "      <td>NaN</td>\n",
              "      <td>84</td>\n",
              "      <td>5322701</td>\n",
              "      <td>None</td>\n",
              "      <td>97d43bb2c3af16aef2ca1c459a335b12</td>\n",
              "      <td>...</td>\n",
              "      <td>None</td>\n",
              "      <td>{'category': 'mobile', 'mobile_brand_name': No...</td>\n",
              "      <td>{'continent': 'Asia', 'country': 'India', 'reg...</td>\n",
              "      <td>{'id': 'com.google.firebase.codelabs.recommend...</td>\n",
              "      <td>{'name': '(direct)', 'medium': '(none)', 'sour...</td>\n",
              "      <td>3595545520</td>\n",
              "      <td>ANDROID</td>\n",
              "      <td>None</td>\n",
              "      <td>None</td>\n",
              "      <td>[]</td>\n",
              "    </tr>\n",
              "    <tr>\n",
              "      <th>1</th>\n",
              "      <td>20220626</td>\n",
              "      <td>1656216241810702</td>\n",
              "      <td>screen_view</td>\n",
              "      <td>[{'key': 'firebase_screen_class', 'value': {'s...</td>\n",
              "      <td>1656182629099001</td>\n",
              "      <td>NaN</td>\n",
              "      <td>84</td>\n",
              "      <td>5322701</td>\n",
              "      <td>None</td>\n",
              "      <td>97d43bb2c3af16aef2ca1c459a335b12</td>\n",
              "      <td>...</td>\n",
              "      <td>None</td>\n",
              "      <td>{'category': 'mobile', 'mobile_brand_name': No...</td>\n",
              "      <td>{'continent': 'Asia', 'country': 'India', 'reg...</td>\n",
              "      <td>{'id': 'com.google.firebase.codelabs.recommend...</td>\n",
              "      <td>{'name': '(direct)', 'medium': '(none)', 'sour...</td>\n",
              "      <td>3595545520</td>\n",
              "      <td>ANDROID</td>\n",
              "      <td>None</td>\n",
              "      <td>None</td>\n",
              "      <td>[]</td>\n",
              "    </tr>\n",
              "    <tr>\n",
              "      <th>2</th>\n",
              "      <td>20220626</td>\n",
              "      <td>1656216548140206</td>\n",
              "      <td>user_engagement</td>\n",
              "      <td>[{'key': 'ga_session_id', 'value': {'string_va...</td>\n",
              "      <td>1654710784446000</td>\n",
              "      <td>NaN</td>\n",
              "      <td>85</td>\n",
              "      <td>3892206</td>\n",
              "      <td>None</td>\n",
              "      <td>97d43bb2c3af16aef2ca1c459a335b12</td>\n",
              "      <td>...</td>\n",
              "      <td>None</td>\n",
              "      <td>{'category': 'mobile', 'mobile_brand_name': No...</td>\n",
              "      <td>{'continent': 'Asia', 'country': 'India', 'reg...</td>\n",
              "      <td>{'id': 'com.google.firebase.codelabs.recommend...</td>\n",
              "      <td>{'name': '(direct)', 'medium': '(none)', 'sour...</td>\n",
              "      <td>3595545520</td>\n",
              "      <td>ANDROID</td>\n",
              "      <td>None</td>\n",
              "      <td>None</td>\n",
              "      <td>[]</td>\n",
              "    </tr>\n",
              "    <tr>\n",
              "      <th>3</th>\n",
              "      <td>20220626</td>\n",
              "      <td>1656217664311211</td>\n",
              "      <td>screen_view</td>\n",
              "      <td>[{'key': 'ga_session_id', 'value': {'string_va...</td>\n",
              "      <td>1656216236488005</td>\n",
              "      <td>NaN</td>\n",
              "      <td>85</td>\n",
              "      <td>3892206</td>\n",
              "      <td>None</td>\n",
              "      <td>97d43bb2c3af16aef2ca1c459a335b12</td>\n",
              "      <td>...</td>\n",
              "      <td>None</td>\n",
              "      <td>{'category': 'mobile', 'mobile_brand_name': No...</td>\n",
              "      <td>{'continent': 'Asia', 'country': 'India', 'reg...</td>\n",
              "      <td>{'id': 'com.google.firebase.codelabs.recommend...</td>\n",
              "      <td>{'name': '(direct)', 'medium': '(none)', 'sour...</td>\n",
              "      <td>3595545520</td>\n",
              "      <td>ANDROID</td>\n",
              "      <td>None</td>\n",
              "      <td>None</td>\n",
              "      <td>[]</td>\n",
              "    </tr>\n",
              "    <tr>\n",
              "      <th>4</th>\n",
              "      <td>20220626</td>\n",
              "      <td>1656219233111215</td>\n",
              "      <td>screen_view</td>\n",
              "      <td>[{'key': 'firebase_screen_id', 'value': {'stri...</td>\n",
              "      <td>1656217660419009</td>\n",
              "      <td>NaN</td>\n",
              "      <td>85</td>\n",
              "      <td>3892206</td>\n",
              "      <td>None</td>\n",
              "      <td>97d43bb2c3af16aef2ca1c459a335b12</td>\n",
              "      <td>...</td>\n",
              "      <td>None</td>\n",
              "      <td>{'category': 'mobile', 'mobile_brand_name': No...</td>\n",
              "      <td>{'continent': 'Asia', 'country': 'India', 'reg...</td>\n",
              "      <td>{'id': 'com.google.firebase.codelabs.recommend...</td>\n",
              "      <td>{'name': '(direct)', 'medium': '(none)', 'sour...</td>\n",
              "      <td>3595545520</td>\n",
              "      <td>ANDROID</td>\n",
              "      <td>None</td>\n",
              "      <td>None</td>\n",
              "      <td>[]</td>\n",
              "    </tr>\n",
              "    <tr>\n",
              "      <th>5</th>\n",
              "      <td>20220626</td>\n",
              "      <td>1656226944423452</td>\n",
              "      <td>user_engagement</td>\n",
              "      <td>[{'key': 'firebase_screen_class', 'value': {'s...</td>\n",
              "      <td>1656216544248001</td>\n",
              "      <td>NaN</td>\n",
              "      <td>89</td>\n",
              "      <td>21196453</td>\n",
              "      <td>None</td>\n",
              "      <td>97d43bb2c3af16aef2ca1c459a335b12</td>\n",
              "      <td>...</td>\n",
              "      <td>None</td>\n",
              "      <td>{'category': 'mobile', 'mobile_brand_name': No...</td>\n",
              "      <td>{'continent': 'Asia', 'country': 'India', 'reg...</td>\n",
              "      <td>{'id': 'com.google.firebase.codelabs.recommend...</td>\n",
              "      <td>{'name': '(direct)', 'medium': '(none)', 'sour...</td>\n",
              "      <td>3595545520</td>\n",
              "      <td>ANDROID</td>\n",
              "      <td>None</td>\n",
              "      <td>None</td>\n",
              "      <td>[]</td>\n",
              "    </tr>\n",
              "    <tr>\n",
              "      <th>6</th>\n",
              "      <td>20220626</td>\n",
              "      <td>1656226084752451</td>\n",
              "      <td>session_start</td>\n",
              "      <td>[{'key': 'engaged_session_event', 'value': {'s...</td>\n",
              "      <td>1656216235670000</td>\n",
              "      <td>NaN</td>\n",
              "      <td>88</td>\n",
              "      <td>21196452</td>\n",
              "      <td>None</td>\n",
              "      <td>97d43bb2c3af16aef2ca1c459a335b12</td>\n",
              "      <td>...</td>\n",
              "      <td>None</td>\n",
              "      <td>{'category': 'mobile', 'mobile_brand_name': No...</td>\n",
              "      <td>{'continent': 'Asia', 'country': 'India', 'reg...</td>\n",
              "      <td>{'id': 'com.google.firebase.codelabs.recommend...</td>\n",
              "      <td>{'name': '(direct)', 'medium': '(none)', 'sour...</td>\n",
              "      <td>3595545520</td>\n",
              "      <td>ANDROID</td>\n",
              "      <td>None</td>\n",
              "      <td>None</td>\n",
              "      <td>[]</td>\n",
              "    </tr>\n",
              "    <tr>\n",
              "      <th>7</th>\n",
              "      <td>20220626</td>\n",
              "      <td>1656226085162452</td>\n",
              "      <td>screen_view</td>\n",
              "      <td>[{'key': 'firebase_screen_id', 'value': {'stri...</td>\n",
              "      <td>1656219229219001</td>\n",
              "      <td>NaN</td>\n",
              "      <td>88</td>\n",
              "      <td>21196452</td>\n",
              "      <td>None</td>\n",
              "      <td>97d43bb2c3af16aef2ca1c459a335b12</td>\n",
              "      <td>...</td>\n",
              "      <td>None</td>\n",
              "      <td>{'category': 'mobile', 'mobile_brand_name': No...</td>\n",
              "      <td>{'continent': 'Asia', 'country': 'India', 'reg...</td>\n",
              "      <td>{'id': 'com.google.firebase.codelabs.recommend...</td>\n",
              "      <td>{'name': '(direct)', 'medium': '(none)', 'sour...</td>\n",
              "      <td>3595545520</td>\n",
              "      <td>ANDROID</td>\n",
              "      <td>None</td>\n",
              "      <td>None</td>\n",
              "      <td>[]</td>\n",
              "    </tr>\n",
              "    <tr>\n",
              "      <th>8</th>\n",
              "      <td>20220626</td>\n",
              "      <td>1656229114971614</td>\n",
              "      <td>session_start</td>\n",
              "      <td>[{'key': 'firebase_event_origin', 'value': {'s...</td>\n",
              "      <td>1656226063556000</td>\n",
              "      <td>NaN</td>\n",
              "      <td>90</td>\n",
              "      <td>3016614</td>\n",
              "      <td>None</td>\n",
              "      <td>97d43bb2c3af16aef2ca1c459a335b12</td>\n",
              "      <td>...</td>\n",
              "      <td>None</td>\n",
              "      <td>{'category': 'mobile', 'mobile_brand_name': No...</td>\n",
              "      <td>{'continent': 'Asia', 'country': 'India', 'reg...</td>\n",
              "      <td>{'id': 'com.google.firebase.codelabs.recommend...</td>\n",
              "      <td>{'name': '(direct)', 'medium': '(none)', 'sour...</td>\n",
              "      <td>3595545520</td>\n",
              "      <td>ANDROID</td>\n",
              "      <td>None</td>\n",
              "      <td>None</td>\n",
              "      <td>[]</td>\n",
              "    </tr>\n",
              "    <tr>\n",
              "      <th>9</th>\n",
              "      <td>20220626</td>\n",
              "      <td>1656229125105615</td>\n",
              "      <td>user_engagement</td>\n",
              "      <td>[{'key': 'firebase_screen_class', 'value': {'s...</td>\n",
              "      <td>1656226923227001</td>\n",
              "      <td>NaN</td>\n",
              "      <td>90</td>\n",
              "      <td>3016614</td>\n",
              "      <td>None</td>\n",
              "      <td>97d43bb2c3af16aef2ca1c459a335b12</td>\n",
              "      <td>...</td>\n",
              "      <td>None</td>\n",
              "      <td>{'category': 'mobile', 'mobile_brand_name': No...</td>\n",
              "      <td>{'continent': 'Asia', 'country': 'India', 'reg...</td>\n",
              "      <td>{'id': 'com.google.firebase.codelabs.recommend...</td>\n",
              "      <td>{'name': '(direct)', 'medium': '(none)', 'sour...</td>\n",
              "      <td>3595545520</td>\n",
              "      <td>ANDROID</td>\n",
              "      <td>None</td>\n",
              "      <td>None</td>\n",
              "      <td>[]</td>\n",
              "    </tr>\n",
              "  </tbody>\n",
              "</table>\n",
              "<p>10 rows × 23 columns</p>\n",
              "</div>\n",
              "      <button class=\"colab-df-convert\" onclick=\"convertToInteractive('df-c8c0fc23-d9b6-4f7e-9cb4-83dfa4ea652f')\"\n",
              "              title=\"Convert this dataframe to an interactive table.\"\n",
              "              style=\"display:none;\">\n",
              "        \n",
              "  <svg xmlns=\"http://www.w3.org/2000/svg\" height=\"24px\"viewBox=\"0 0 24 24\"\n",
              "       width=\"24px\">\n",
              "    <path d=\"M0 0h24v24H0V0z\" fill=\"none\"/>\n",
              "    <path d=\"M18.56 5.44l.94 2.06.94-2.06 2.06-.94-2.06-.94-.94-2.06-.94 2.06-2.06.94zm-11 1L8.5 8.5l.94-2.06 2.06-.94-2.06-.94L8.5 2.5l-.94 2.06-2.06.94zm10 10l.94 2.06.94-2.06 2.06-.94-2.06-.94-.94-2.06-.94 2.06-2.06.94z\"/><path d=\"M17.41 7.96l-1.37-1.37c-.4-.4-.92-.59-1.43-.59-.52 0-1.04.2-1.43.59L10.3 9.45l-7.72 7.72c-.78.78-.78 2.05 0 2.83L4 21.41c.39.39.9.59 1.41.59.51 0 1.02-.2 1.41-.59l7.78-7.78 2.81-2.81c.8-.78.8-2.07 0-2.86zM5.41 20L4 18.59l7.72-7.72 1.47 1.35L5.41 20z\"/>\n",
              "  </svg>\n",
              "      </button>\n",
              "      \n",
              "  <style>\n",
              "    .colab-df-container {\n",
              "      display:flex;\n",
              "      flex-wrap:wrap;\n",
              "      gap: 12px;\n",
              "    }\n",
              "\n",
              "    .colab-df-convert {\n",
              "      background-color: #E8F0FE;\n",
              "      border: none;\n",
              "      border-radius: 50%;\n",
              "      cursor: pointer;\n",
              "      display: none;\n",
              "      fill: #1967D2;\n",
              "      height: 32px;\n",
              "      padding: 0 0 0 0;\n",
              "      width: 32px;\n",
              "    }\n",
              "\n",
              "    .colab-df-convert:hover {\n",
              "      background-color: #E2EBFA;\n",
              "      box-shadow: 0px 1px 2px rgba(60, 64, 67, 0.3), 0px 1px 3px 1px rgba(60, 64, 67, 0.15);\n",
              "      fill: #174EA6;\n",
              "    }\n",
              "\n",
              "    [theme=dark] .colab-df-convert {\n",
              "      background-color: #3B4455;\n",
              "      fill: #D2E3FC;\n",
              "    }\n",
              "\n",
              "    [theme=dark] .colab-df-convert:hover {\n",
              "      background-color: #434B5C;\n",
              "      box-shadow: 0px 1px 3px 1px rgba(0, 0, 0, 0.15);\n",
              "      filter: drop-shadow(0px 1px 2px rgba(0, 0, 0, 0.3));\n",
              "      fill: #FFFFFF;\n",
              "    }\n",
              "  </style>\n",
              "\n",
              "      <script>\n",
              "        const buttonEl =\n",
              "          document.querySelector('#df-c8c0fc23-d9b6-4f7e-9cb4-83dfa4ea652f button.colab-df-convert');\n",
              "        buttonEl.style.display =\n",
              "          google.colab.kernel.accessAllowed ? 'block' : 'none';\n",
              "\n",
              "        async function convertToInteractive(key) {\n",
              "          const element = document.querySelector('#df-c8c0fc23-d9b6-4f7e-9cb4-83dfa4ea652f');\n",
              "          const dataTable =\n",
              "            await google.colab.kernel.invokeFunction('convertToInteractive',\n",
              "                                                     [key], {});\n",
              "          if (!dataTable) return;\n",
              "\n",
              "          const docLinkHtml = 'Like what you see? Visit the ' +\n",
              "            '<a target=\"_blank\" href=https://colab.research.google.com/notebooks/data_table.ipynb>data table notebook</a>'\n",
              "            + ' to learn more about interactive tables.';\n",
              "          element.innerHTML = '';\n",
              "          dataTable['output_type'] = 'display_data';\n",
              "          await google.colab.output.renderOutput(dataTable, element);\n",
              "          const docLink = document.createElement('div');\n",
              "          docLink.innerHTML = docLinkHtml;\n",
              "          element.appendChild(docLink);\n",
              "        }\n",
              "      </script>\n",
              "    </div>\n",
              "  </div>\n",
              "  "
            ]
          },
          "metadata": {},
          "execution_count": 45
        }
      ]
    },
    {
      "cell_type": "markdown",
      "metadata": {
        "id": "_wysL9g8WW5U"
      },
      "source": [
        "All of the columns included in each analytics event entry."
      ]
    },
    {
      "cell_type": "code",
      "metadata": {
        "id": "V9jHxMTqU8E2",
        "outputId": "3c2ab63d-d5ce-4b57-c3b8-661779bbdf0d",
        "colab": {
          "base_uri": "https://localhost:8080/"
        }
      },
      "source": [
        "analytics_test_import.columns"
      ],
      "execution_count": null,
      "outputs": [
        {
          "output_type": "execute_result",
          "data": {
            "text/plain": [
              "Index(['event_date', 'event_timestamp', 'event_name', 'event_params',\n",
              "       'event_previous_timestamp', 'event_value_in_usd',\n",
              "       'event_bundle_sequence_id', 'event_server_timestamp_offset', 'user_id',\n",
              "       'user_pseudo_id', 'privacy_info', 'user_properties',\n",
              "       'user_first_touch_timestamp', 'user_ltv', 'device', 'geo', 'app_info',\n",
              "       'traffic_source', 'stream_id', 'platform', 'event_dimensions',\n",
              "       'ecommerce', 'items'],\n",
              "      dtype='object')"
            ]
          },
          "metadata": {},
          "execution_count": 46
        }
      ]
    },
    {
      "cell_type": "markdown",
      "metadata": {
        "id": "ImvkOzFwWQN4"
      },
      "source": [
        "Of the information logged under 'items', we are only interested in 'item_id',which corresponds to the ID of the movie the user interacted with."
      ]
    },
    {
      "cell_type": "code",
      "metadata": {
        "id": "UVazzlpLVwTN",
        "colab": {
          "base_uri": "https://localhost:8080/",
          "height": 165
        },
        "outputId": "1f96e611-b65d-45ed-d10c-e31eea0befc8"
      },
      "source": [
        "analytics_test_import['items'][0][0]"
      ],
      "execution_count": null,
      "outputs": [
        {
          "output_type": "error",
          "ename": "IndexError",
          "evalue": "ignored",
          "traceback": [
            "\u001b[0;31m---------------------------------------------------------------------------\u001b[0m",
            "\u001b[0;31mIndexError\u001b[0m                                Traceback (most recent call last)",
            "\u001b[0;32m<ipython-input-7-451703365ed6>\u001b[0m in \u001b[0;36m<module>\u001b[0;34m()\u001b[0m\n\u001b[0;32m----> 1\u001b[0;31m \u001b[0manalytics_test_import\u001b[0m\u001b[0;34m[\u001b[0m\u001b[0;34m'items'\u001b[0m\u001b[0;34m]\u001b[0m\u001b[0;34m[\u001b[0m\u001b[0;36m0\u001b[0m\u001b[0;34m]\u001b[0m\u001b[0;34m[\u001b[0m\u001b[0;36m0\u001b[0m\u001b[0;34m]\u001b[0m\u001b[0;34m\u001b[0m\u001b[0;34m\u001b[0m\u001b[0m\n\u001b[0m",
            "\u001b[0;31mIndexError\u001b[0m: index 0 is out of bounds for axis 0 with size 0"
          ]
        }
      ]
    },
    {
      "cell_type": "markdown",
      "metadata": {
        "id": "HF3vnWJXThab"
      },
      "source": [
        "Now we run the following command to import the whole dataset into a variable. Note how we only import the fields which we are interested in for training purposes."
      ]
    },
    {
      "cell_type": "code",
      "metadata": {
        "id": "rXK2PAK5AMpM",
        "outputId": "414aed82-1196-4b4f-9b53-630ef908cf6d",
        "colab": {
          "base_uri": "https://localhost:8080/"
        }
      },
      "source": [
        "%%bigquery analytics_data_real\n",
        "SELECT\n",
        "    items,user_pseudo_id,event_timestamp\n",
        "FROM `analytics_317045996.events_intraday_20220626`"
      ],
      "execution_count": null,
      "outputs": [
        {
          "output_type": "stream",
          "name": "stderr",
          "text": [
            "Query complete after 0.01s: 100%|██████████| 1/1 [00:00<00:00, 138.08query/s]\n",
            "Downloading: 100%|██████████| 155/155 [00:01<00:00, 105.36rows/s]\n"
          ]
        }
      ]
    },
    {
      "cell_type": "code",
      "metadata": {
        "id": "OdM67AvOsN5p",
        "outputId": "55f5507d-4695-4c9a-d999-50fb5c431619",
        "colab": {
          "base_uri": "https://localhost:8080/",
          "height": 285
        }
      },
      "source": [
        "analytics_data_real.head()"
      ],
      "execution_count": null,
      "outputs": [
        {
          "output_type": "execute_result",
          "data": {
            "text/plain": [
              "                                               items  \\\n",
              "0  [{'item_id': '32', 'item_name': '(not set)', '...   \n",
              "1  [{'item_id': '41', 'item_name': '(not set)', '...   \n",
              "2                                                 []   \n",
              "3                                                 []   \n",
              "4                                                 []   \n",
              "\n",
              "                     user_pseudo_id   event_timestamp  \n",
              "0  deb5945fa29be45801049d34f1a52570  1656232199651952  \n",
              "1  deb5945fa29be45801049d34f1a52570  1656232201866953  \n",
              "2  deb5945fa29be45801049d34f1a52570  1656232206341954  \n",
              "3  97d43bb2c3af16aef2ca1c459a335b12  1656238690463898  \n",
              "4  97d43bb2c3af16aef2ca1c459a335b12  1656238690739899  "
            ],
            "text/html": [
              "\n",
              "  <div id=\"df-444e2046-abfc-4229-89bf-cfa32d6114f2\">\n",
              "    <div class=\"colab-df-container\">\n",
              "      <div>\n",
              "<style scoped>\n",
              "    .dataframe tbody tr th:only-of-type {\n",
              "        vertical-align: middle;\n",
              "    }\n",
              "\n",
              "    .dataframe tbody tr th {\n",
              "        vertical-align: top;\n",
              "    }\n",
              "\n",
              "    .dataframe thead th {\n",
              "        text-align: right;\n",
              "    }\n",
              "</style>\n",
              "<table border=\"1\" class=\"dataframe\">\n",
              "  <thead>\n",
              "    <tr style=\"text-align: right;\">\n",
              "      <th></th>\n",
              "      <th>items</th>\n",
              "      <th>user_pseudo_id</th>\n",
              "      <th>event_timestamp</th>\n",
              "    </tr>\n",
              "  </thead>\n",
              "  <tbody>\n",
              "    <tr>\n",
              "      <th>0</th>\n",
              "      <td>[{'item_id': '32', 'item_name': '(not set)', '...</td>\n",
              "      <td>deb5945fa29be45801049d34f1a52570</td>\n",
              "      <td>1656232199651952</td>\n",
              "    </tr>\n",
              "    <tr>\n",
              "      <th>1</th>\n",
              "      <td>[{'item_id': '41', 'item_name': '(not set)', '...</td>\n",
              "      <td>deb5945fa29be45801049d34f1a52570</td>\n",
              "      <td>1656232201866953</td>\n",
              "    </tr>\n",
              "    <tr>\n",
              "      <th>2</th>\n",
              "      <td>[]</td>\n",
              "      <td>deb5945fa29be45801049d34f1a52570</td>\n",
              "      <td>1656232206341954</td>\n",
              "    </tr>\n",
              "    <tr>\n",
              "      <th>3</th>\n",
              "      <td>[]</td>\n",
              "      <td>97d43bb2c3af16aef2ca1c459a335b12</td>\n",
              "      <td>1656238690463898</td>\n",
              "    </tr>\n",
              "    <tr>\n",
              "      <th>4</th>\n",
              "      <td>[]</td>\n",
              "      <td>97d43bb2c3af16aef2ca1c459a335b12</td>\n",
              "      <td>1656238690739899</td>\n",
              "    </tr>\n",
              "  </tbody>\n",
              "</table>\n",
              "</div>\n",
              "      <button class=\"colab-df-convert\" onclick=\"convertToInteractive('df-444e2046-abfc-4229-89bf-cfa32d6114f2')\"\n",
              "              title=\"Convert this dataframe to an interactive table.\"\n",
              "              style=\"display:none;\">\n",
              "        \n",
              "  <svg xmlns=\"http://www.w3.org/2000/svg\" height=\"24px\"viewBox=\"0 0 24 24\"\n",
              "       width=\"24px\">\n",
              "    <path d=\"M0 0h24v24H0V0z\" fill=\"none\"/>\n",
              "    <path d=\"M18.56 5.44l.94 2.06.94-2.06 2.06-.94-2.06-.94-.94-2.06-.94 2.06-2.06.94zm-11 1L8.5 8.5l.94-2.06 2.06-.94-2.06-.94L8.5 2.5l-.94 2.06-2.06.94zm10 10l.94 2.06.94-2.06 2.06-.94-2.06-.94-.94-2.06-.94 2.06-2.06.94z\"/><path d=\"M17.41 7.96l-1.37-1.37c-.4-.4-.92-.59-1.43-.59-.52 0-1.04.2-1.43.59L10.3 9.45l-7.72 7.72c-.78.78-.78 2.05 0 2.83L4 21.41c.39.39.9.59 1.41.59.51 0 1.02-.2 1.41-.59l7.78-7.78 2.81-2.81c.8-.78.8-2.07 0-2.86zM5.41 20L4 18.59l7.72-7.72 1.47 1.35L5.41 20z\"/>\n",
              "  </svg>\n",
              "      </button>\n",
              "      \n",
              "  <style>\n",
              "    .colab-df-container {\n",
              "      display:flex;\n",
              "      flex-wrap:wrap;\n",
              "      gap: 12px;\n",
              "    }\n",
              "\n",
              "    .colab-df-convert {\n",
              "      background-color: #E8F0FE;\n",
              "      border: none;\n",
              "      border-radius: 50%;\n",
              "      cursor: pointer;\n",
              "      display: none;\n",
              "      fill: #1967D2;\n",
              "      height: 32px;\n",
              "      padding: 0 0 0 0;\n",
              "      width: 32px;\n",
              "    }\n",
              "\n",
              "    .colab-df-convert:hover {\n",
              "      background-color: #E2EBFA;\n",
              "      box-shadow: 0px 1px 2px rgba(60, 64, 67, 0.3), 0px 1px 3px 1px rgba(60, 64, 67, 0.15);\n",
              "      fill: #174EA6;\n",
              "    }\n",
              "\n",
              "    [theme=dark] .colab-df-convert {\n",
              "      background-color: #3B4455;\n",
              "      fill: #D2E3FC;\n",
              "    }\n",
              "\n",
              "    [theme=dark] .colab-df-convert:hover {\n",
              "      background-color: #434B5C;\n",
              "      box-shadow: 0px 1px 3px 1px rgba(0, 0, 0, 0.15);\n",
              "      filter: drop-shadow(0px 1px 2px rgba(0, 0, 0, 0.3));\n",
              "      fill: #FFFFFF;\n",
              "    }\n",
              "  </style>\n",
              "\n",
              "      <script>\n",
              "        const buttonEl =\n",
              "          document.querySelector('#df-444e2046-abfc-4229-89bf-cfa32d6114f2 button.colab-df-convert');\n",
              "        buttonEl.style.display =\n",
              "          google.colab.kernel.accessAllowed ? 'block' : 'none';\n",
              "\n",
              "        async function convertToInteractive(key) {\n",
              "          const element = document.querySelector('#df-444e2046-abfc-4229-89bf-cfa32d6114f2');\n",
              "          const dataTable =\n",
              "            await google.colab.kernel.invokeFunction('convertToInteractive',\n",
              "                                                     [key], {});\n",
              "          if (!dataTable) return;\n",
              "\n",
              "          const docLinkHtml = 'Like what you see? Visit the ' +\n",
              "            '<a target=\"_blank\" href=https://colab.research.google.com/notebooks/data_table.ipynb>data table notebook</a>'\n",
              "            + ' to learn more about interactive tables.';\n",
              "          element.innerHTML = '';\n",
              "          dataTable['output_type'] = 'display_data';\n",
              "          await google.colab.output.renderOutput(dataTable, element);\n",
              "          const docLink = document.createElement('div');\n",
              "          docLink.innerHTML = docLinkHtml;\n",
              "          element.appendChild(docLink);\n",
              "        }\n",
              "      </script>\n",
              "    </div>\n",
              "  </div>\n",
              "  "
            ]
          },
          "metadata": {},
          "execution_count": 60
        }
      ]
    },
    {
      "cell_type": "markdown",
      "metadata": {
        "id": "UTdiPeVjUADI"
      },
      "source": [
        "# Preprocess the dataset\n",
        "\n",
        "In this step, we create a lambda function to extract a subfield 'item_id' from the items object. This represents the movie_id, so we also rename the columns to match."
      ]
    },
    {
      "cell_type": "code",
      "metadata": {
        "id": "BJzJb0AsDQlk",
        "outputId": "24d70840-f76e-4ed9-cefe-f2dfce6c0103",
        "colab": {
          "base_uri": "https://localhost:8080/",
          "height": 815
        }
      },
      "source": [
        "analytics = analytics_data_real.loc[analytics_data_real['items']!='[]'].copy()\n",
        "def getMovieID(row):\n",
        "  items_obj = row['items'][0]\n",
        "  return items_obj['item_id']\n",
        "analytics['movie_id'] = analytics.apply(lambda row: getMovieID(row), axis=1)\n",
        "analytics"
      ],
      "execution_count": null,
      "outputs": [
        {
          "output_type": "execute_result",
          "data": {
            "text/plain": [
              "                                                 items  \\\n",
              "0    [{'item_id': '32', 'item_name': '(not set)', '...   \n",
              "1    [{'item_id': '41', 'item_name': '(not set)', '...   \n",
              "5    [{'item_id': '1', 'item_name': '(not set)', 'i...   \n",
              "7    [{'item_id': '1', 'item_name': '(not set)', 'i...   \n",
              "8    [{'item_id': '3', 'item_name': '(not set)', 'i...   \n",
              "..                                                 ...   \n",
              "149  [{'item_id': '37', 'item_name': '(not set)', '...   \n",
              "150  [{'item_id': '36', 'item_name': '(not set)', '...   \n",
              "151  [{'item_id': '25', 'item_name': '(not set)', '...   \n",
              "152  [{'item_id': '23', 'item_name': '(not set)', '...   \n",
              "153  [{'item_id': '21', 'item_name': '(not set)', '...   \n",
              "\n",
              "                       user_pseudo_id   event_timestamp movie_id  \n",
              "0    deb5945fa29be45801049d34f1a52570  1656232199651952       32  \n",
              "1    deb5945fa29be45801049d34f1a52570  1656232201866953       41  \n",
              "5    97d43bb2c3af16aef2ca1c459a335b12  1656232022322898        1  \n",
              "7    97d43bb2c3af16aef2ca1c459a335b12  1656232122803900        1  \n",
              "8    97d43bb2c3af16aef2ca1c459a335b12  1656232124723901        3  \n",
              "..                                ...               ...      ...  \n",
              "149  deb5945fa29be45801049d34f1a52570  1656239445031608       37  \n",
              "150  deb5945fa29be45801049d34f1a52570  1656239446267609       36  \n",
              "151  deb5945fa29be45801049d34f1a52570  1656239449651610       25  \n",
              "152  deb5945fa29be45801049d34f1a52570  1656239450423611       23  \n",
              "153  deb5945fa29be45801049d34f1a52570  1656239451357612       21  \n",
              "\n",
              "[109 rows x 4 columns]"
            ],
            "text/html": [
              "\n",
              "  <div id=\"df-16a74343-6384-44fe-b5ac-ac84198560b8\">\n",
              "    <div class=\"colab-df-container\">\n",
              "      <div>\n",
              "<style scoped>\n",
              "    .dataframe tbody tr th:only-of-type {\n",
              "        vertical-align: middle;\n",
              "    }\n",
              "\n",
              "    .dataframe tbody tr th {\n",
              "        vertical-align: top;\n",
              "    }\n",
              "\n",
              "    .dataframe thead th {\n",
              "        text-align: right;\n",
              "    }\n",
              "</style>\n",
              "<table border=\"1\" class=\"dataframe\">\n",
              "  <thead>\n",
              "    <tr style=\"text-align: right;\">\n",
              "      <th></th>\n",
              "      <th>items</th>\n",
              "      <th>user_pseudo_id</th>\n",
              "      <th>event_timestamp</th>\n",
              "      <th>movie_id</th>\n",
              "    </tr>\n",
              "  </thead>\n",
              "  <tbody>\n",
              "    <tr>\n",
              "      <th>0</th>\n",
              "      <td>[{'item_id': '32', 'item_name': '(not set)', '...</td>\n",
              "      <td>deb5945fa29be45801049d34f1a52570</td>\n",
              "      <td>1656232199651952</td>\n",
              "      <td>32</td>\n",
              "    </tr>\n",
              "    <tr>\n",
              "      <th>1</th>\n",
              "      <td>[{'item_id': '41', 'item_name': '(not set)', '...</td>\n",
              "      <td>deb5945fa29be45801049d34f1a52570</td>\n",
              "      <td>1656232201866953</td>\n",
              "      <td>41</td>\n",
              "    </tr>\n",
              "    <tr>\n",
              "      <th>5</th>\n",
              "      <td>[{'item_id': '1', 'item_name': '(not set)', 'i...</td>\n",
              "      <td>97d43bb2c3af16aef2ca1c459a335b12</td>\n",
              "      <td>1656232022322898</td>\n",
              "      <td>1</td>\n",
              "    </tr>\n",
              "    <tr>\n",
              "      <th>7</th>\n",
              "      <td>[{'item_id': '1', 'item_name': '(not set)', 'i...</td>\n",
              "      <td>97d43bb2c3af16aef2ca1c459a335b12</td>\n",
              "      <td>1656232122803900</td>\n",
              "      <td>1</td>\n",
              "    </tr>\n",
              "    <tr>\n",
              "      <th>8</th>\n",
              "      <td>[{'item_id': '3', 'item_name': '(not set)', 'i...</td>\n",
              "      <td>97d43bb2c3af16aef2ca1c459a335b12</td>\n",
              "      <td>1656232124723901</td>\n",
              "      <td>3</td>\n",
              "    </tr>\n",
              "    <tr>\n",
              "      <th>...</th>\n",
              "      <td>...</td>\n",
              "      <td>...</td>\n",
              "      <td>...</td>\n",
              "      <td>...</td>\n",
              "    </tr>\n",
              "    <tr>\n",
              "      <th>149</th>\n",
              "      <td>[{'item_id': '37', 'item_name': '(not set)', '...</td>\n",
              "      <td>deb5945fa29be45801049d34f1a52570</td>\n",
              "      <td>1656239445031608</td>\n",
              "      <td>37</td>\n",
              "    </tr>\n",
              "    <tr>\n",
              "      <th>150</th>\n",
              "      <td>[{'item_id': '36', 'item_name': '(not set)', '...</td>\n",
              "      <td>deb5945fa29be45801049d34f1a52570</td>\n",
              "      <td>1656239446267609</td>\n",
              "      <td>36</td>\n",
              "    </tr>\n",
              "    <tr>\n",
              "      <th>151</th>\n",
              "      <td>[{'item_id': '25', 'item_name': '(not set)', '...</td>\n",
              "      <td>deb5945fa29be45801049d34f1a52570</td>\n",
              "      <td>1656239449651610</td>\n",
              "      <td>25</td>\n",
              "    </tr>\n",
              "    <tr>\n",
              "      <th>152</th>\n",
              "      <td>[{'item_id': '23', 'item_name': '(not set)', '...</td>\n",
              "      <td>deb5945fa29be45801049d34f1a52570</td>\n",
              "      <td>1656239450423611</td>\n",
              "      <td>23</td>\n",
              "    </tr>\n",
              "    <tr>\n",
              "      <th>153</th>\n",
              "      <td>[{'item_id': '21', 'item_name': '(not set)', '...</td>\n",
              "      <td>deb5945fa29be45801049d34f1a52570</td>\n",
              "      <td>1656239451357612</td>\n",
              "      <td>21</td>\n",
              "    </tr>\n",
              "  </tbody>\n",
              "</table>\n",
              "<p>109 rows × 4 columns</p>\n",
              "</div>\n",
              "      <button class=\"colab-df-convert\" onclick=\"convertToInteractive('df-16a74343-6384-44fe-b5ac-ac84198560b8')\"\n",
              "              title=\"Convert this dataframe to an interactive table.\"\n",
              "              style=\"display:none;\">\n",
              "        \n",
              "  <svg xmlns=\"http://www.w3.org/2000/svg\" height=\"24px\"viewBox=\"0 0 24 24\"\n",
              "       width=\"24px\">\n",
              "    <path d=\"M0 0h24v24H0V0z\" fill=\"none\"/>\n",
              "    <path d=\"M18.56 5.44l.94 2.06.94-2.06 2.06-.94-2.06-.94-.94-2.06-.94 2.06-2.06.94zm-11 1L8.5 8.5l.94-2.06 2.06-.94-2.06-.94L8.5 2.5l-.94 2.06-2.06.94zm10 10l.94 2.06.94-2.06 2.06-.94-2.06-.94-.94-2.06-.94 2.06-2.06.94z\"/><path d=\"M17.41 7.96l-1.37-1.37c-.4-.4-.92-.59-1.43-.59-.52 0-1.04.2-1.43.59L10.3 9.45l-7.72 7.72c-.78.78-.78 2.05 0 2.83L4 21.41c.39.39.9.59 1.41.59.51 0 1.02-.2 1.41-.59l7.78-7.78 2.81-2.81c.8-.78.8-2.07 0-2.86zM5.41 20L4 18.59l7.72-7.72 1.47 1.35L5.41 20z\"/>\n",
              "  </svg>\n",
              "      </button>\n",
              "      \n",
              "  <style>\n",
              "    .colab-df-container {\n",
              "      display:flex;\n",
              "      flex-wrap:wrap;\n",
              "      gap: 12px;\n",
              "    }\n",
              "\n",
              "    .colab-df-convert {\n",
              "      background-color: #E8F0FE;\n",
              "      border: none;\n",
              "      border-radius: 50%;\n",
              "      cursor: pointer;\n",
              "      display: none;\n",
              "      fill: #1967D2;\n",
              "      height: 32px;\n",
              "      padding: 0 0 0 0;\n",
              "      width: 32px;\n",
              "    }\n",
              "\n",
              "    .colab-df-convert:hover {\n",
              "      background-color: #E2EBFA;\n",
              "      box-shadow: 0px 1px 2px rgba(60, 64, 67, 0.3), 0px 1px 3px 1px rgba(60, 64, 67, 0.15);\n",
              "      fill: #174EA6;\n",
              "    }\n",
              "\n",
              "    [theme=dark] .colab-df-convert {\n",
              "      background-color: #3B4455;\n",
              "      fill: #D2E3FC;\n",
              "    }\n",
              "\n",
              "    [theme=dark] .colab-df-convert:hover {\n",
              "      background-color: #434B5C;\n",
              "      box-shadow: 0px 1px 3px 1px rgba(0, 0, 0, 0.15);\n",
              "      filter: drop-shadow(0px 1px 2px rgba(0, 0, 0, 0.3));\n",
              "      fill: #FFFFFF;\n",
              "    }\n",
              "  </style>\n",
              "\n",
              "      <script>\n",
              "        const buttonEl =\n",
              "          document.querySelector('#df-16a74343-6384-44fe-b5ac-ac84198560b8 button.colab-df-convert');\n",
              "        buttonEl.style.display =\n",
              "          google.colab.kernel.accessAllowed ? 'block' : 'none';\n",
              "\n",
              "        async function convertToInteractive(key) {\n",
              "          const element = document.querySelector('#df-16a74343-6384-44fe-b5ac-ac84198560b8');\n",
              "          const dataTable =\n",
              "            await google.colab.kernel.invokeFunction('convertToInteractive',\n",
              "                                                     [key], {});\n",
              "          if (!dataTable) return;\n",
              "\n",
              "          const docLinkHtml = 'Like what you see? Visit the ' +\n",
              "            '<a target=\"_blank\" href=https://colab.research.google.com/notebooks/data_table.ipynb>data table notebook</a>'\n",
              "            + ' to learn more about interactive tables.';\n",
              "          element.innerHTML = '';\n",
              "          dataTable['output_type'] = 'display_data';\n",
              "          await google.colab.output.renderOutput(dataTable, element);\n",
              "          const docLink = document.createElement('div');\n",
              "          docLink.innerHTML = docLinkHtml;\n",
              "          element.appendChild(docLink);\n",
              "        }\n",
              "      </script>\n",
              "    </div>\n",
              "  </div>\n",
              "  "
            ]
          },
          "metadata": {},
          "execution_count": 71
        }
      ]
    },
    {
      "cell_type": "markdown",
      "metadata": {
        "id": "qXi0XmaJUff6"
      },
      "source": [
        "We drop the 'items' column since we don't need anything else from it."
      ]
    },
    {
      "cell_type": "code",
      "metadata": {
        "id": "7hUZGrBhErs9"
      },
      "source": [
        "analytics.rename(columns={'user_pseudo_id': 'user_id', 'event_timestamp': 'timestamp'}, inplace=True)\n",
        "analytics.drop(['items'], axis=1, inplace=True)"
      ],
      "execution_count": null,
      "outputs": []
    },
    {
      "cell_type": "markdown",
      "metadata": {
        "id": "aQW3-22MUnrH"
      },
      "source": [
        "Here is our processed dataframe containing only the data we want to use in training.\n",
        "\n",
        "The data has the following properties:\n",
        "*   UserIDs range between 1 and 6040\n",
        "*   MovieIDs range between 1 and 3952\n",
        "*   Timestamp is represented in seconds since the epoch as returned by time(2)\n",
        "*   Each user has at least 20 ratings"
      ]
    },
    {
      "cell_type": "code",
      "metadata": {
        "id": "D8S7hp8FFxg6",
        "outputId": "4a59e37a-5238-4116-fe41-9aba351d8099",
        "colab": {
          "base_uri": "https://localhost:8080/",
          "height": 424
        }
      },
      "source": [
        "analytics"
      ],
      "execution_count": null,
      "outputs": [
        {
          "output_type": "execute_result",
          "data": {
            "text/plain": [
              "                              user_id         timestamp movie_id\n",
              "0    deb5945fa29be45801049d34f1a52570  1656232199651952       32\n",
              "1    deb5945fa29be45801049d34f1a52570  1656232201866953       41\n",
              "5    97d43bb2c3af16aef2ca1c459a335b12  1656232022322898        1\n",
              "7    97d43bb2c3af16aef2ca1c459a335b12  1656232122803900        1\n",
              "8    97d43bb2c3af16aef2ca1c459a335b12  1656232124723901        3\n",
              "..                                ...               ...      ...\n",
              "149  deb5945fa29be45801049d34f1a52570  1656239445031608       37\n",
              "150  deb5945fa29be45801049d34f1a52570  1656239446267609       36\n",
              "151  deb5945fa29be45801049d34f1a52570  1656239449651610       25\n",
              "152  deb5945fa29be45801049d34f1a52570  1656239450423611       23\n",
              "153  deb5945fa29be45801049d34f1a52570  1656239451357612       21\n",
              "\n",
              "[109 rows x 3 columns]"
            ],
            "text/html": [
              "\n",
              "  <div id=\"df-2734dd7f-e520-4169-ae11-64a4eb7bc86e\">\n",
              "    <div class=\"colab-df-container\">\n",
              "      <div>\n",
              "<style scoped>\n",
              "    .dataframe tbody tr th:only-of-type {\n",
              "        vertical-align: middle;\n",
              "    }\n",
              "\n",
              "    .dataframe tbody tr th {\n",
              "        vertical-align: top;\n",
              "    }\n",
              "\n",
              "    .dataframe thead th {\n",
              "        text-align: right;\n",
              "    }\n",
              "</style>\n",
              "<table border=\"1\" class=\"dataframe\">\n",
              "  <thead>\n",
              "    <tr style=\"text-align: right;\">\n",
              "      <th></th>\n",
              "      <th>user_id</th>\n",
              "      <th>timestamp</th>\n",
              "      <th>movie_id</th>\n",
              "    </tr>\n",
              "  </thead>\n",
              "  <tbody>\n",
              "    <tr>\n",
              "      <th>0</th>\n",
              "      <td>deb5945fa29be45801049d34f1a52570</td>\n",
              "      <td>1656232199651952</td>\n",
              "      <td>32</td>\n",
              "    </tr>\n",
              "    <tr>\n",
              "      <th>1</th>\n",
              "      <td>deb5945fa29be45801049d34f1a52570</td>\n",
              "      <td>1656232201866953</td>\n",
              "      <td>41</td>\n",
              "    </tr>\n",
              "    <tr>\n",
              "      <th>5</th>\n",
              "      <td>97d43bb2c3af16aef2ca1c459a335b12</td>\n",
              "      <td>1656232022322898</td>\n",
              "      <td>1</td>\n",
              "    </tr>\n",
              "    <tr>\n",
              "      <th>7</th>\n",
              "      <td>97d43bb2c3af16aef2ca1c459a335b12</td>\n",
              "      <td>1656232122803900</td>\n",
              "      <td>1</td>\n",
              "    </tr>\n",
              "    <tr>\n",
              "      <th>8</th>\n",
              "      <td>97d43bb2c3af16aef2ca1c459a335b12</td>\n",
              "      <td>1656232124723901</td>\n",
              "      <td>3</td>\n",
              "    </tr>\n",
              "    <tr>\n",
              "      <th>...</th>\n",
              "      <td>...</td>\n",
              "      <td>...</td>\n",
              "      <td>...</td>\n",
              "    </tr>\n",
              "    <tr>\n",
              "      <th>149</th>\n",
              "      <td>deb5945fa29be45801049d34f1a52570</td>\n",
              "      <td>1656239445031608</td>\n",
              "      <td>37</td>\n",
              "    </tr>\n",
              "    <tr>\n",
              "      <th>150</th>\n",
              "      <td>deb5945fa29be45801049d34f1a52570</td>\n",
              "      <td>1656239446267609</td>\n",
              "      <td>36</td>\n",
              "    </tr>\n",
              "    <tr>\n",
              "      <th>151</th>\n",
              "      <td>deb5945fa29be45801049d34f1a52570</td>\n",
              "      <td>1656239449651610</td>\n",
              "      <td>25</td>\n",
              "    </tr>\n",
              "    <tr>\n",
              "      <th>152</th>\n",
              "      <td>deb5945fa29be45801049d34f1a52570</td>\n",
              "      <td>1656239450423611</td>\n",
              "      <td>23</td>\n",
              "    </tr>\n",
              "    <tr>\n",
              "      <th>153</th>\n",
              "      <td>deb5945fa29be45801049d34f1a52570</td>\n",
              "      <td>1656239451357612</td>\n",
              "      <td>21</td>\n",
              "    </tr>\n",
              "  </tbody>\n",
              "</table>\n",
              "<p>109 rows × 3 columns</p>\n",
              "</div>\n",
              "      <button class=\"colab-df-convert\" onclick=\"convertToInteractive('df-2734dd7f-e520-4169-ae11-64a4eb7bc86e')\"\n",
              "              title=\"Convert this dataframe to an interactive table.\"\n",
              "              style=\"display:none;\">\n",
              "        \n",
              "  <svg xmlns=\"http://www.w3.org/2000/svg\" height=\"24px\"viewBox=\"0 0 24 24\"\n",
              "       width=\"24px\">\n",
              "    <path d=\"M0 0h24v24H0V0z\" fill=\"none\"/>\n",
              "    <path d=\"M18.56 5.44l.94 2.06.94-2.06 2.06-.94-2.06-.94-.94-2.06-.94 2.06-2.06.94zm-11 1L8.5 8.5l.94-2.06 2.06-.94-2.06-.94L8.5 2.5l-.94 2.06-2.06.94zm10 10l.94 2.06.94-2.06 2.06-.94-2.06-.94-.94-2.06-.94 2.06-2.06.94z\"/><path d=\"M17.41 7.96l-1.37-1.37c-.4-.4-.92-.59-1.43-.59-.52 0-1.04.2-1.43.59L10.3 9.45l-7.72 7.72c-.78.78-.78 2.05 0 2.83L4 21.41c.39.39.9.59 1.41.59.51 0 1.02-.2 1.41-.59l7.78-7.78 2.81-2.81c.8-.78.8-2.07 0-2.86zM5.41 20L4 18.59l7.72-7.72 1.47 1.35L5.41 20z\"/>\n",
              "  </svg>\n",
              "      </button>\n",
              "      \n",
              "  <style>\n",
              "    .colab-df-container {\n",
              "      display:flex;\n",
              "      flex-wrap:wrap;\n",
              "      gap: 12px;\n",
              "    }\n",
              "\n",
              "    .colab-df-convert {\n",
              "      background-color: #E8F0FE;\n",
              "      border: none;\n",
              "      border-radius: 50%;\n",
              "      cursor: pointer;\n",
              "      display: none;\n",
              "      fill: #1967D2;\n",
              "      height: 32px;\n",
              "      padding: 0 0 0 0;\n",
              "      width: 32px;\n",
              "    }\n",
              "\n",
              "    .colab-df-convert:hover {\n",
              "      background-color: #E2EBFA;\n",
              "      box-shadow: 0px 1px 2px rgba(60, 64, 67, 0.3), 0px 1px 3px 1px rgba(60, 64, 67, 0.15);\n",
              "      fill: #174EA6;\n",
              "    }\n",
              "\n",
              "    [theme=dark] .colab-df-convert {\n",
              "      background-color: #3B4455;\n",
              "      fill: #D2E3FC;\n",
              "    }\n",
              "\n",
              "    [theme=dark] .colab-df-convert:hover {\n",
              "      background-color: #434B5C;\n",
              "      box-shadow: 0px 1px 3px 1px rgba(0, 0, 0, 0.15);\n",
              "      filter: drop-shadow(0px 1px 2px rgba(0, 0, 0, 0.3));\n",
              "      fill: #FFFFFF;\n",
              "    }\n",
              "  </style>\n",
              "\n",
              "      <script>\n",
              "        const buttonEl =\n",
              "          document.querySelector('#df-2734dd7f-e520-4169-ae11-64a4eb7bc86e button.colab-df-convert');\n",
              "        buttonEl.style.display =\n",
              "          google.colab.kernel.accessAllowed ? 'block' : 'none';\n",
              "\n",
              "        async function convertToInteractive(key) {\n",
              "          const element = document.querySelector('#df-2734dd7f-e520-4169-ae11-64a4eb7bc86e');\n",
              "          const dataTable =\n",
              "            await google.colab.kernel.invokeFunction('convertToInteractive',\n",
              "                                                     [key], {});\n",
              "          if (!dataTable) return;\n",
              "\n",
              "          const docLinkHtml = 'Like what you see? Visit the ' +\n",
              "            '<a target=\"_blank\" href=https://colab.research.google.com/notebooks/data_table.ipynb>data table notebook</a>'\n",
              "            + ' to learn more about interactive tables.';\n",
              "          element.innerHTML = '';\n",
              "          dataTable['output_type'] = 'display_data';\n",
              "          await google.colab.output.renderOutput(dataTable, element);\n",
              "          const docLink = document.createElement('div');\n",
              "          docLink.innerHTML = docLinkHtml;\n",
              "          element.appendChild(docLink);\n",
              "        }\n",
              "      </script>\n",
              "    </div>\n",
              "  </div>\n",
              "  "
            ]
          },
          "metadata": {},
          "execution_count": 73
        }
      ]
    },
    {
      "cell_type": "markdown",
      "metadata": {
        "id": "pS2IXA2IW2Xd"
      },
      "source": [
        "## Sort and group training data to create training examples\n",
        "\n",
        "Our analytics events need to be reorganized in the format required for the model training step. We will create an object that maps key user_id to a list of movies that user has seen. We use the timestamp data to create the sequential context."
      ]
    },
    {
      "cell_type": "code",
      "metadata": {
        "id": "E2gKMD_4sN57"
      },
      "source": [
        "import collections\n",
        "def convert_to_timelines(df):\n",
        "  \"\"\"Convert ratings data to user.\"\"\"\n",
        "  timelines = collections.defaultdict(list)\n",
        "  movie_counts = collections.Counter()\n",
        "  for user_id, timestamp, movie_id in df.values:\n",
        "    timelines[user_id].append([movie_id, int(timestamp)])\n",
        "    movie_counts[movie_id] += 1\n",
        "  # Sort per-user timeline by timestamp\n",
        "  for (user_id, timeline) in timelines.items():\n",
        "    timeline.sort(key=lambda x: x[1])\n",
        "    timelines[user_id] = [movie_id for movie_id, _ in timeline]\n",
        "  return timelines, movie_counts\n",
        "timelines, counts = convert_to_timelines(analytics)"
      ],
      "execution_count": null,
      "outputs": []
    },
    {
      "cell_type": "markdown",
      "metadata": {
        "id": "f0ASLyOYZqCH"
      },
      "source": [
        "The timelines object contains a list of movie_id's keyed on user_id to indicate the sequence of movies that user has interacted with."
      ]
    },
    {
      "cell_type": "code",
      "metadata": {
        "id": "l6Zm23tgsN59",
        "outputId": "2430d866-f629-4698-99b1-c3f93dcaa2a3",
        "colab": {
          "base_uri": "https://localhost:8080/"
        }
      },
      "source": [
        "import itertools\n",
        "\n",
        "for key, val in sorted(timelines.items())[0:10]:\n",
        "  print(key, val)"
      ],
      "execution_count": null,
      "outputs": [
        {
          "output_type": "stream",
          "name": "stdout",
          "text": [
            "97d43bb2c3af16aef2ca1c459a335b12 ['1', '17', '2', '3', '1', '3', '17', '1', '2', '5', '4', '6', '10', '2', '1', '4', '13', '11', '10', '1', '2', '7', '1', '1', '3', '2', '1', '2', '3']\n",
            "deb5945fa29be45801049d34f1a52570 ['1', '2', '4', '3', '1', '2', '7', '21', '1', '2', '14', '17', '3', '32', '41', '1', '2', '3', '11', '20', '21', '25', '38', '36', '32', '41', '1', '2', '3', '17', '21', '40', '41', '32', '20', '22', '23', '26', '36', '25', '24', '3', '2', '1', '6', '9', '11', '1', '2', '3', '11', '20', '23', '21', '17', '6', '26', '24', '22', '25', '41', '40', '36', '37', '32', '1', '2', '17', '3', '22', '20', '24', '26', '41', '40', '37', '36', '25', '23', '21']\n"
          ]
        }
      ]
    },
    {
      "cell_type": "markdown",
      "metadata": {
        "id": "GcxmkcOzZ7Zj"
      },
      "source": [
        "## Generate training examples\n",
        "\n",
        "We use the timelines data to generate tensorflow training examples. We discard any timeline with less than 3 context items, and we consider context lengths of 100 items. We perform the following steps:\n",
        "\n",
        "* Groups movie records by user, and orders per-user movie records by timestamp.\n",
        "* Generates Tensorflow examples with features: 1) \"context\": time-ordered sequential movie IDs 2) \"label\": next movie ID user viewed as label. \"max_history_length\" is taken in as parameter to define \"context\" feature shape, if not enough history found, right padding with out-of-vocab ID 0 will be performed.\n",
        "* Then partition the available data into a training and test set.\n",
        "\n",
        "Sample generated training example with max user history as 10:\n",
        "```\n",
        "0 : {   # (tensorflow.Example)\n",
        "  features: {   # (tensorflow.Features)\n",
        "    feature: {\n",
        "      key  : \"context\"\n",
        "      value: {\n",
        "        int64_list: {\n",
        "          value: [ 595, 2687, 745, 588, 1, 2355, 2294, 783, 1566, 1907 ]\n",
        "        }\n",
        "      }\n",
        "    }\n",
        "    feature: {\n",
        "      key  : \"label\"\n",
        "      value: {\n",
        "        int64_list: {\n",
        "          value: [ 48 ]\n",
        "        }\n",
        "      }\n",
        "    }\n",
        "  }\n",
        "}\n",
        "```"
      ]
    },
    {
      "cell_type": "code",
      "metadata": {
        "id": "hwWgd41asN5_"
      },
      "source": [
        "import tensorflow as tf\n",
        "\n",
        "# used to pad when user doesn't have enough context\n",
        "OOV_MOVIE_ID = 0\n",
        "\n",
        "def generate_examples_from_timelines(timelines,\n",
        "                                     min_timeline_len=3,\n",
        "                                     max_context_len=100):\n",
        "  \"\"\"Convert user timelines to tf examples.\n",
        "\n",
        "  Convert user timelines to tf examples by adding all possible context-label\n",
        "  pairs in the examples pool.\n",
        "\n",
        "  Args:\n",
        "    timelines: the user timelines to process.\n",
        "    min_timeline_len: minimum length of the user timeline.\n",
        "    max_context_len: maximum length of context signals.\n",
        "\n",
        "  Returns:\n",
        "    train_examples: tf example list for training.\n",
        "    test_examples: tf example list for testing.\n",
        "  \"\"\"\n",
        "  train_examples = []\n",
        "  test_examples = []\n",
        "  for timeline in timelines.values():\n",
        "    # Skip if timeline is shorter than min_timeline_len.\n",
        "    if len(timeline) < min_timeline_len:\n",
        "      continue\n",
        "    for label_idx in range(1, len(timeline)):\n",
        "      start_idx = max(0, label_idx - max_context_len)\n",
        "      context = timeline[start_idx:label_idx]\n",
        "      context=list(map(int,context))\n",
        "      # Pad context with out-of-vocab movie id 0.\n",
        "      while len(context) < max_context_len:\n",
        "        context.append(OOV_MOVIE_ID)\n",
        "      label = timeline[label_idx]\n",
        "      label=int(label)\n",
        "      feature = {\n",
        "          \"context\":\n",
        "              tf.train.Feature(int64_list=tf.train.Int64List(value=context)),\n",
        "          \"label\":\n",
        "              tf.train.Feature(int64_list=tf.train.Int64List(value=[label]))\n",
        "      }\n",
        "      tf_example = tf.train.Example(features=tf.train.Features(feature=feature))\n",
        "      if label_idx == len(timeline) - 1:\n",
        "        test_examples.append(tf_example.SerializeToString())\n",
        "      else:\n",
        "        train_examples.append(tf_example.SerializeToString())\n",
        "  return train_examples, test_examples\n",
        "\n"
      ],
      "execution_count": null,
      "outputs": []
    },
    {
      "cell_type": "code",
      "metadata": {
        "scrolled": false,
        "id": "3v0XcJ3OsN6A"
      },
      "source": [
        "train_examples, test_examples = generate_examples_from_timelines(timelines)"
      ],
      "execution_count": null,
      "outputs": []
    },
    {
      "cell_type": "markdown",
      "metadata": {
        "id": "3SS4ZYJCjRvO"
      },
      "source": [
        "Write examples to tfrecords, to be loaded in the model training step."
      ]
    },
    {
      "cell_type": "code",
      "metadata": {
        "id": "KVOe4EXUeyjw",
        "colab": {
          "base_uri": "https://localhost:8080/"
        },
        "outputId": "0dcf63e5-cea3-44e0-ac63-595b42c45b2d"
      },
      "source": [
        "def write_tfrecords(tf_examples, filename):\n",
        "  \"\"\"Write tf examples to tfrecord file.\"\"\"\n",
        "  with tf.io.TFRecordWriter(filename) as file_writer:\n",
        "    for example in tf_examples:\n",
        "      file_writer.write(example)\n",
        "\n",
        "output_dir = 'data/examples'\n",
        "OUTPUT_TRAINING_DATA_FILENAME = \"train_movielens_1m.tfrecord\"\n",
        "OUTPUT_TESTING_DATA_FILENAME = \"test_movielens_1m.tfrecord\"\n",
        "\n",
        "if not tf.io.gfile.exists(output_dir):\n",
        "  tf.io.gfile.makedirs(output_dir)\n",
        "write_tfrecords(\n",
        "    tf_examples=train_examples,\n",
        "    filename=os.path.join(output_dir, OUTPUT_TRAINING_DATA_FILENAME))\n",
        "write_tfrecords(\n",
        "    tf_examples=test_examples,\n",
        "    filename=os.path.join(output_dir, OUTPUT_TESTING_DATA_FILENAME))\n",
        "print(len(train_examples))\n",
        "print(len(test_examples))\n",
        "\n",
        "\n"
      ],
      "execution_count": null,
      "outputs": [
        {
          "output_type": "stream",
          "name": "stdout",
          "text": [
            "105\n",
            "2\n"
          ]
        }
      ]
    },
    {
      "cell_type": "markdown",
      "metadata": {
        "id": "XQcQ6AssuBN8"
      },
      "source": [
        "# Train model\n",
        "\n",
        "The training launcher script uses TensorFlow keras compile/fit APIs and performs\n",
        "the following steps to kick start training and evaluation process:\n",
        "\n",
        "*   Set up both train and eval dataset input function.\n",
        "*   Construct keras model according to provided configs, please refer to sample.config file in the source code to config your model architecture, such as embedding dimension, convolutional neural network params, LSTM units etc.\n",
        "*   Setup loss function. In this code base, we leverages customized batch softmax loss function.\n",
        "*   Setup optimizer, with flag specified learning rate and gradient clip if needed.\n",
        "*   Setup evaluation metrics, we provided recall@k metrics by default.\n",
        "*   Compile model with loss function, optimizer and defined metrics.\n",
        "*   Setup callbacks for tensorboard and checkpoint manager.\n",
        "*   Run model.fit with compiled model, where you could specify number of epochs to train, number of train steps in each epoch and number of eval steps in each epoch.\n",
        "\n",
        "## Model training parameters\n",
        "\n",
        "### Encoder type\n",
        "\n",
        "You can train the model using three different encoder types: a convolutional neural net (cnn), a recurrent neural net (rnn), or a bag of words (bow). You can select between the various types with the **--encoder_type** parameter supplying **cnn**, **rnn**, or **bow**. Different encoders have strengths and weakensses depending on the input / output characteristics of your dataset.\n",
        "\n",
        "For example: If the input context (here, the user history length) is long, cnn and rnn would be more suitable as they have better summarization ability with longer user histories.\n",
        "\n",
        "### Training time / size\n",
        "\n",
        "Another consideration is training time. Rnn generally requires the longer training times, followed by cnn, and finally bow with the shortest training times. Bag of words will also be a smaller sized model if space is a consideration.\n",
        "\n",
        "To start training, execute the following command. Please note that we are using a very small number of epochs (**num_epochs** parameter below) of 10 to speed up training time at the expense of model quality. Generating a high quality model often requires a much higher number. For this model, setting num_epochs to at least 100 should provide a model of sufficient quality. \n"
      ]
    },
    {
      "cell_type": "code",
      "metadata": {
        "id": "3gPKz5InxEbF",
        "colab": {
          "base_uri": "https://localhost:8080/"
        },
        "outputId": "f819a619-f5ec-4975-8037-53b21eb1c6a8"
      },
      "source": [
        "!git clone https://github.com/obid12/model-tokonex\n",
        "%cd model-tokonex/\n",
        "!python -m model.recommendation_model_launcher_keras\\\n",
        " --run_mode \"train_and_eval\" \\\n",
        " --encoder_type \"cnn\" \\\n",
        " --training_data_filepattern \"data/examples/train_movielens_1m.tfrecord\" \\\n",
        " --testing_data_filepattern \"data/examples/test_movielens_1m.tfrecord\" \\\n",
        " --model_dir \"model/model_dir\" \\\n",
        " --params_path \"model/sample_config.json\"\\\n",
        " --batch_size 10 \\\n",
        " --learning_rate 0.1 \\\n",
        " --steps_per_epoch 100\\\n",
        " --num_epochs   10\\\n",
        " --num_eval_steps 1000 \\\n",
        " --gradient_clip_norm 1.0 \\\n",
        " --max_history_length 10"
      ],
      "execution_count": null,
      "outputs": [
        {
          "output_type": "stream",
          "name": "stdout",
          "text": [
            "fatal: destination path 'model-tokonex' already exists and is not an empty directory.\n",
            "/content/examples/lite/examples/recommendation/ml/model-tokonex\n",
            "INFO:tensorflow:Setting up train and eval input_fns.\n",
            "I0626 12:37:19.155707 140462519809920 app.py:258] Setting up train and eval input_fns.\n",
            "INFO:tensorflow:Build keras model for mode: train_and_eval.\n",
            "I0626 12:37:19.155936 140462519809920 app.py:258] Build keras model for mode: train_and_eval.\n",
            "2022-06-26 12:37:19.870210: W tensorflow/core/common_runtime/gpu/gpu_bfc_allocator.cc:39] Overriding allow_growth setting because the TF_FORCE_GPU_ALLOW_GROWTH environment variable is set. Original config value was 0.\n",
            "Epoch 1/10\n",
            "100/100 [==============================] - 18s 59ms/step - loss: 255.9117 - accuracy: 0.0000e+00 - mean_squared_error: 255.9117 - mean_absolute_error: 11.6251 - val_loss: 2.1094 - val_accuracy: 0.0000e+00 - val_mean_squared_error: 2.1094 - val_mean_absolute_error: 1.2325\n",
            "Epoch 2/10\n",
            "100/100 [==============================] - 4s 35ms/step - loss: 118.2766 - accuracy: 0.0000e+00 - mean_squared_error: 118.2766 - mean_absolute_error: 8.3347 - val_loss: 0.1712 - val_accuracy: 0.0000e+00 - val_mean_squared_error: 0.1712 - val_mean_absolute_error: 0.3472\n",
            "Epoch 3/10\n",
            "100/100 [==============================] - 3s 35ms/step - loss: 96.7383 - accuracy: 0.0000e+00 - mean_squared_error: 96.7383 - mean_absolute_error: 7.3407 - val_loss: 85.4869 - val_accuracy: 0.0000e+00 - val_mean_squared_error: 85.4869 - val_mean_absolute_error: 7.2856\n",
            "Epoch 4/10\n",
            "100/100 [==============================] - 6s 57ms/step - loss: 87.6150 - accuracy: 0.0000e+00 - mean_squared_error: 87.6150 - mean_absolute_error: 6.8939 - val_loss: 48.9954 - val_accuracy: 0.0000e+00 - val_mean_squared_error: 48.9954 - val_mean_absolute_error: 5.8343\n",
            "Epoch 5/10\n",
            "100/100 [==============================] - 4s 35ms/step - loss: 54.3725 - accuracy: 0.0000e+00 - mean_squared_error: 54.3725 - mean_absolute_error: 5.3521 - val_loss: 3.9284 - val_accuracy: 0.0000e+00 - val_mean_squared_error: 3.9284 - val_mean_absolute_error: 1.9598\n",
            "Epoch 6/10\n",
            "100/100 [==============================] - 3s 35ms/step - loss: 41.1105 - accuracy: 0.0020 - mean_squared_error: 41.1105 - mean_absolute_error: 4.6646 - val_loss: 24.8781 - val_accuracy: 0.0000e+00 - val_mean_squared_error: 24.8781 - val_mean_absolute_error: 4.3203\n",
            "Epoch 7/10\n",
            "100/100 [==============================] - 6s 57ms/step - loss: 33.7972 - accuracy: 0.0000e+00 - mean_squared_error: 33.7972 - mean_absolute_error: 4.0350 - val_loss: 18.6939 - val_accuracy: 0.0000e+00 - val_mean_squared_error: 18.6939 - val_mean_absolute_error: 3.7674\n",
            "Epoch 8/10\n",
            "100/100 [==============================] - 6s 57ms/step - loss: 27.8082 - accuracy: 0.0020 - mean_squared_error: 27.8082 - mean_absolute_error: 3.6866 - val_loss: 7.8458 - val_accuracy: 0.0000e+00 - val_mean_squared_error: 7.8458 - val_mean_absolute_error: 2.5951\n",
            "Epoch 9/10\n",
            "100/100 [==============================] - 6s 57ms/step - loss: 21.1720 - accuracy: 0.0010 - mean_squared_error: 21.1720 - mean_absolute_error: 3.2310 - val_loss: 18.7218 - val_accuracy: 0.0000e+00 - val_mean_squared_error: 18.7218 - val_mean_absolute_error: 3.7320\n",
            "Epoch 10/10\n",
            "100/100 [==============================] - 4s 36ms/step - loss: 16.2760 - accuracy: 0.0000e+00 - mean_squared_error: 16.2760 - mean_absolute_error: 2.8235 - val_loss: 2.1960 - val_accuracy: 0.0000e+00 - val_mean_squared_error: 2.1960 - val_mean_absolute_error: 1.3928\n",
            "INFO:tensorflow:<keras.callbacks.History object at 0x7fbef45c7210>\n",
            "I0626 12:38:43.206832 140462519809920 app.py:258] <keras.callbacks.History object at 0x7fbef45c7210>\n"
          ]
        }
      ]
    },
    {
      "cell_type": "markdown",
      "source": [
        ""
      ],
      "metadata": {
        "id": "cHsKMSM-l4eF"
      }
    },
    {
      "cell_type": "markdown",
      "metadata": {
        "id": "ObH_mcGcxS96"
      },
      "source": [
        "# Export model\n",
        "\n",
        "Now we export the trained model to a tflite file suitable for on-device inference on mobile devices.\n",
        "Note that here we use the latest checkpoint, number 10000 in the **checkpoint_path**. This results from num_epochs (10) x steps_per_epoch (1000). If you change either parameter in the previous training step, you should update this parameter to accordingly export the latest checkpoint."
      ]
    },
    {
      "cell_type": "code",
      "metadata": {
        "id": "SH5r6AxHzGrS",
        "scrolled": true,
        "colab": {
          "base_uri": "https://localhost:8080/"
        },
        "outputId": "caf317b6-2086-425b-80a4-f036e2deddfb"
      },
      "source": [
        "%cd model-tokonex/\n",
        "!python -m model.recommendation_model_launcher_keras \\\n",
        "  --run_mode \"export\" \\\n",
        "  --encoder_type \"cnn\" \\\n",
        "  --params_path \"model/sample_config.json\"\\\n",
        "  --model_dir \"model/model_dir\" \\\n",
        "  --checkpoint_path \"model/model_dir/ckpt-1000\" \\\n",
        "  --num_predictions 10\n",
        "  "
      ],
      "execution_count": null,
      "outputs": [
        {
          "output_type": "stream",
          "name": "stdout",
          "text": [
            "/content/examples/lite/examples/recommendation/ml/model-tokonex/model-tokonex/model-tokonex/model-tokonex\n",
            "INFO:tensorflow:Setting up train and eval input_fns.\n",
            "I0626 13:10:27.015886 140143444285312 app.py:258] Setting up train and eval input_fns.\n",
            "INFO:tensorflow:Build keras model for mode: export.\n",
            "I0626 13:10:27.016152 140143444285312 app.py:258] Build keras model for mode: export.\n",
            "2022-06-26 13:10:27.753350: W tensorflow/core/common_runtime/gpu/gpu_bfc_allocator.cc:39] Overriding allow_growth setting because the TF_FORCE_GPU_ALLOW_GROWTH environment variable is set. Original config value was 0.\n",
            "INFO:tensorflow:Exporting model to dir: model/model_dir/export\n",
            "I0626 13:10:27.878624 140143444285312 app.py:258] Exporting model to dir: model/model_dir/export\n",
            "Traceback (most recent call last):\n",
            "  File \"/usr/local/lib/python3.7/dist-packages/tensorflow/python/training/py_checkpoint_reader.py\", line 92, in NewCheckpointReader\n",
            "    return CheckpointReader(compat.as_bytes(filepattern))\n",
            "RuntimeError: Unsuccessful TensorSliceReader constructor: Failed to find any matching files for model/model_dir/ckpt-1000\n",
            "\n",
            "During handling of the above exception, another exception occurred:\n",
            "\n",
            "Traceback (most recent call last):\n",
            "  File \"/usr/local/lib/python3.7/dist-packages/tensorflow/python/training/tracking/util.py\", line 2380, in restore\n",
            "    status = self.read(save_path, options=options)\n",
            "  File \"/usr/local/lib/python3.7/dist-packages/tensorflow/python/training/tracking/util.py\", line 2260, in read\n",
            "    result = self._saver.restore(save_path=save_path, options=options)\n",
            "  File \"/usr/local/lib/python3.7/dist-packages/tensorflow/python/training/tracking/util.py\", line 1344, in restore\n",
            "    reader = py_checkpoint_reader.NewCheckpointReader(save_path)\n",
            "  File \"/usr/local/lib/python3.7/dist-packages/tensorflow/python/training/py_checkpoint_reader.py\", line 96, in NewCheckpointReader\n",
            "    error_translator(e)\n",
            "  File \"/usr/local/lib/python3.7/dist-packages/tensorflow/python/training/py_checkpoint_reader.py\", line 31, in error_translator\n",
            "    raise errors_impl.NotFoundError(None, None, error_message)\n",
            "tensorflow.python.framework.errors_impl.NotFoundError: Unsuccessful TensorSliceReader constructor: Failed to find any matching files for model/model_dir/ckpt-1000\n",
            "\n",
            "During handling of the above exception, another exception occurred:\n",
            "\n",
            "Traceback (most recent call last):\n",
            "  File \"/usr/lib/python3.7/runpy.py\", line 193, in _run_module_as_main\n",
            "    \"__main__\", mod_spec)\n",
            "  File \"/usr/lib/python3.7/runpy.py\", line 85, in _run_code\n",
            "    exec(code, run_globals)\n",
            "  File \"/content/examples/lite/examples/recommendation/ml/model-tokonex/model-tokonex/model-tokonex/model-tokonex/model/recommendation_model_launcher_keras.py\", line 284, in <module>\n",
            "    app.run(main)\n",
            "  File \"/usr/local/lib/python3.7/dist-packages/absl/app.py\", line 312, in run\n",
            "    _run_main(main, args)\n",
            "  File \"/usr/local/lib/python3.7/dist-packages/absl/app.py\", line 258, in _run_main\n",
            "    sys.exit(main(argv))\n",
            "  File \"/content/examples/lite/examples/recommendation/ml/model-tokonex/model-tokonex/model-tokonex/model-tokonex/model/recommendation_model_launcher_keras.py\", line 277, in main\n",
            "    max_history_length=FLAGS.max_history_length)\n",
            "  File \"/content/examples/lite/examples/recommendation/ml/model-tokonex/model-tokonex/model-tokonex/model-tokonex/model/recommendation_model_launcher_keras.py\", line 217, in export\n",
            "    checkpoint.restore(checkpoint_path).run_restore_ops()\n",
            "  File \"/usr/local/lib/python3.7/dist-packages/tensorflow/python/training/tracking/util.py\", line 2386, in restore\n",
            "    f\"Error when restoring from checkpoint or SavedModel at \"\n",
            "tensorflow.python.framework.errors_impl.NotFoundError: Error when restoring from checkpoint or SavedModel at model/model_dir/ckpt-1000: Unsuccessful TensorSliceReader constructor: Failed to find any matching files for model/model_dir/ckpt-1000\n",
            "Please double-check that the path is correct. You may be missing the checkpoint suffix (e.g. the '-1' in 'path/to/ckpt-1').\n"
          ]
        }
      ]
    },
    {
      "cell_type": "markdown",
      "metadata": {
        "id": "qXMQ5D5JzSgv"
      },
      "source": [
        "# Model inference (Optional)\n",
        "\n",
        "You could verify your model's performance by running inference with test examples."
      ]
    },
    {
      "cell_type": "code",
      "metadata": {
        "id": "og0qkYavz3Nt",
        "scrolled": true
      },
      "source": [
        "import tensorflow as tf\n",
        "import os\n",
        "import json\n",
        "\n",
        "# Use [0, 1, ... 9] as example input to represent 10 movies that user interacted with.\n",
        "#context = [1196, 1210, 2628]\n",
        "# context = tf.range(10)\n",
        "context = tf.constant([1196, 1210, 2628, 260, 480, 2571, 589, 1240, 1, 10])\n",
        "\n",
        "# Directory to exported TensorFlow Lite model.\n",
        "export_dir = \"model/model_dir/export\"\n",
        "tflite_model_path = os.path.join(export_dir, 'model.tflite')\n",
        "f = open(tflite_model_path, 'rb')\n",
        "interpreter = tf.lite.Interpreter(model_content=f.read())\n",
        "interpreter.allocate_tensors()\n",
        "input_details = interpreter.get_input_details()\n",
        "output_details = interpreter.get_output_details()\n",
        "print(input_details)\n",
        "print(output_details)\n",
        "\n",
        "interpreter.set_tensor(input_details[0]['index'], context)\n",
        "interpreter.invoke()\n",
        "tflite_top_predictions_ids = interpreter.get_tensor(\n",
        "    output_details[0]['index'])\n",
        "tflite_top_prediction_scores = interpreter.get_tensor(\n",
        "    output_details[1]['index'])\n",
        "print(\"results >>>>>\")\n",
        "print(\"input >>>>>\")\n",
        "print(input_details[0])\n",
        "print(\"output >>>>>\")\n",
        "print(tflite_top_predictions_ids)"
      ],
      "execution_count": null,
      "outputs": []
    },
    {
      "cell_type": "markdown",
      "metadata": {
        "id": "A_omMjoT035u"
      },
      "source": [
        "# Deploy model to the Firebase Console\n",
        "\n",
        "We now deploy the model to the Firebase Console. From there, it can be automatically downloaded to your user's devices with Firebase ML."
      ]
    },
    {
      "cell_type": "markdown",
      "metadata": {
        "id": "awx9Q73aFyfS"
      },
      "source": [
        "Step 1. Initialize Firebase App Instance"
      ]
    },
    {
      "cell_type": "code",
      "metadata": {
        "id": "NxHAv1OaNo-X"
      },
      "source": [
        "import firebase_admin\n",
        "\n",
        "firebase_admin.initialize_app(options={'projectId': projectID, \n",
        "             'storageBucket': projectID + '.appspot.com' })"
      ],
      "execution_count": null,
      "outputs": []
    },
    {
      "cell_type": "markdown",
      "metadata": {
        "id": "7PxvbLcNNoxZ"
      },
      "source": [
        "Step 2. Upload the model file to Cloud Storage"
      ]
    },
    {
      "cell_type": "code",
      "metadata": {
        "id": "8WPegXrvdnth"
      },
      "source": [
        "from firebase_admin import ml\n",
        "\n",
        "# This uploads it to your bucket as recommendation.tflite\n",
        "source = ml.TFLiteGCSModelSource.from_saved_model(export_dir, 'model.tflite')\n",
        "print (source.gcs_tflite_uri)"
      ],
      "execution_count": null,
      "outputs": []
    },
    {
      "cell_type": "markdown",
      "metadata": {
        "id": "cjUgFOCCF4Ro"
      },
      "source": [
        "Step 3. Deploy the model to Firebase"
      ]
    },
    {
      "cell_type": "code",
      "metadata": {
        "id": "EbPwOU1iF75O"
      },
      "source": [
        "# Create a Model Format\n",
        "model_format = ml.TFLiteFormat(model_source=source)\n",
        "\n",
        "# Create a Model object\n",
        "sdk_model_1 = ml.Model(display_name=\"recommendations\", model_format=model_format)\n",
        "\n",
        "# Make the Create API call to create the model in Firebase\n",
        "firebase_model_1 = ml.create_model(sdk_model_1)\n",
        "print(firebase_model_1.as_dict())\n",
        "\n",
        "# Publish the model\n",
        "model_id = firebase_model_1.model_id\n",
        "firebase_model_1 = ml.publish_model(model_id)"
      ],
      "execution_count": null,
      "outputs": []
    },
    {
      "cell_type": "markdown",
      "metadata": {
        "id": "GvdDw6pXyDIT"
      },
      "source": [
        "# Return to the Firebase Console\n",
        "At this point, we have deployed the trained model to the Firebase console. You can go to Develop > Machine Learning > Custom to check it out!\n",
        "\n",
        "Note that for the purposes of this codelab, in order to have a quick training time, we intentionally chose suboptimal training parameters (as described in the model training step above) that sacrifice model quality. To get better results, please use the pre-trained model included in the Github code repo [here](https://github.com/FirebaseExtended/codelab-contentrecommendation-android/blob/master/recommendation_cnn_i10o100.tflite).\n",
        "To replace the model we just published:\n",
        "1. In the Firebase console, go to Develop > Machine Learning > Custom\n",
        "1. Select the settings dropdown under the model named \"recommendations\"\n",
        "1. Choose \"Replace model\" and upload the model file from the Github repo.\n",
        "\n",
        "Finally, please return to the [codelab](https://codelabs.developers.google.com/codelabs/contentrecommendation-android) and complete the last steps to see the app in action!"
      ]
    }
  ]
}